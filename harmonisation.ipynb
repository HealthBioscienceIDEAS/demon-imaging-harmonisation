{
 "cells": [
  {
   "cell_type": "markdown",
   "id": "38eb51df-e0dd-41b4-93fe-30720b54a859",
   "metadata": {},
   "source": [
    "# Harmonisation strategies\n",
    "Now the we have seen how different scanners can produce difference in images between the same individual on different scanners, we need to figure out to account for this data. "
   ]
  },
  {
   "cell_type": "code",
   "execution_count": 68,
   "id": "97a0a551-c646-4d87-8786-7726d75efde1",
   "metadata": {},
   "outputs": [],
   "source": [
    "import os\n",
    "import nest_asyncio\n",
    "nest_asyncio.apply()\n",
    "import numpy as np\n",
    "import pandas as pd\n",
    "import datalad.api as dl"
   ]
  },
  {
   "cell_type": "markdown",
   "id": "a43bb069-590b-44ad-b26a-c6ef1a63c30e",
   "metadata": {},
   "source": [
    "Let's grab the dataset that has all the imgaging volumes for the study and read it into memory"
   ]
  },
  {
   "cell_type": "code",
   "execution_count": 69,
   "id": "73cd931a-36bd-4051-b688-6eaf2659afce",
   "metadata": {},
   "outputs": [
    {
     "name": "stderr",
     "output_type": "stream",
     "text": [
      "[INFO] Fetching updates for Dataset(/tmp/sample) \n"
     ]
    }
   ],
   "source": [
    "dl_source='/Users/davecash/Data/IDEAS/sample'\n",
    "sample=dl.clone(dl_source,path='/tmp/sample',description='Cloned sample dataset for import')\n",
    "sample.update(merge=True)\n",
    "in_file=sample.get('./GENFI_DEMON_SPREADSHEET.xlsx')"
   ]
  },
  {
   "cell_type": "code",
   "execution_count": 97,
   "id": "2b5d5148-2ef3-4fc8-924f-52bee498c2e9",
   "metadata": {},
   "outputs": [],
   "source": [
    "df_xsec=pd.read_excel(in_file[0]['path'])\n",
    "df_xsec['Sex']=pd.Categorical(df_xsec['Sex'],categories=[0,1])\n",
    "df_xsec['Sex']=df_xsec['Sex'].cat.rename_categories(['Female','Male'])\n",
    "df_xsec['Site'] = pd.Categorical(df_xsec['Site'],categories=np.arange(23))\n",
    "df_xsec['Group']=pd.Categorical(df_xsec['Group'],categories=[0,1,2])\n",
    "df_xsec['Group']=df_xsec['Group'].cat.rename_categories(['Non-carrier','Presymptomatic','Symptomatic'])"
   ]
  },
  {
   "cell_type": "markdown",
   "id": "2f6d39cf-fa46-4359-95db-2d87db2661fd",
   "metadata": {},
   "source": [
    "A quick cross tab to show the different kinds of scanners used at each site."
   ]
  },
  {
   "cell_type": "code",
   "execution_count": 98,
   "id": "ca77bd75-e571-4921-b950-4603c4519919",
   "metadata": {},
   "outputs": [
    {
     "data": {
      "text/html": [
       "<div>\n",
       "<style scoped>\n",
       "    .dataframe tbody tr th:only-of-type {\n",
       "        vertical-align: middle;\n",
       "    }\n",
       "\n",
       "    .dataframe tbody tr th {\n",
       "        vertical-align: top;\n",
       "    }\n",
       "\n",
       "    .dataframe thead th {\n",
       "        text-align: right;\n",
       "    }\n",
       "</style>\n",
       "<table border=\"1\" class=\"dataframe\">\n",
       "  <thead>\n",
       "    <tr style=\"text-align: right;\">\n",
       "      <th>Scanner</th>\n",
       "      <th>GE 1.5T</th>\n",
       "      <th>GE 3T</th>\n",
       "      <th>Philips 3T</th>\n",
       "      <th>Siemens 1.5T</th>\n",
       "      <th>Siemens Prisma 3T</th>\n",
       "      <th>Siemens Skyra 3T</th>\n",
       "      <th>Siemens Trio 3T</th>\n",
       "    </tr>\n",
       "    <tr>\n",
       "      <th>Site</th>\n",
       "      <th></th>\n",
       "      <th></th>\n",
       "      <th></th>\n",
       "      <th></th>\n",
       "      <th></th>\n",
       "      <th></th>\n",
       "      <th></th>\n",
       "    </tr>\n",
       "  </thead>\n",
       "  <tbody>\n",
       "    <tr>\n",
       "      <th>0</th>\n",
       "      <td>0</td>\n",
       "      <td>0</td>\n",
       "      <td>0</td>\n",
       "      <td>0</td>\n",
       "      <td>0</td>\n",
       "      <td>8</td>\n",
       "      <td>20</td>\n",
       "    </tr>\n",
       "    <tr>\n",
       "      <th>1</th>\n",
       "      <td>0</td>\n",
       "      <td>0</td>\n",
       "      <td>45</td>\n",
       "      <td>0</td>\n",
       "      <td>0</td>\n",
       "      <td>0</td>\n",
       "      <td>0</td>\n",
       "    </tr>\n",
       "    <tr>\n",
       "      <th>2</th>\n",
       "      <td>0</td>\n",
       "      <td>0</td>\n",
       "      <td>0</td>\n",
       "      <td>0</td>\n",
       "      <td>3</td>\n",
       "      <td>0</td>\n",
       "      <td>0</td>\n",
       "    </tr>\n",
       "    <tr>\n",
       "      <th>3</th>\n",
       "      <td>0</td>\n",
       "      <td>0</td>\n",
       "      <td>143</td>\n",
       "      <td>0</td>\n",
       "      <td>0</td>\n",
       "      <td>0</td>\n",
       "      <td>0</td>\n",
       "    </tr>\n",
       "    <tr>\n",
       "      <th>4</th>\n",
       "      <td>0</td>\n",
       "      <td>0</td>\n",
       "      <td>3</td>\n",
       "      <td>0</td>\n",
       "      <td>0</td>\n",
       "      <td>0</td>\n",
       "      <td>0</td>\n",
       "    </tr>\n",
       "    <tr>\n",
       "      <th>5</th>\n",
       "      <td>0</td>\n",
       "      <td>25</td>\n",
       "      <td>0</td>\n",
       "      <td>0</td>\n",
       "      <td>6</td>\n",
       "      <td>0</td>\n",
       "      <td>0</td>\n",
       "    </tr>\n",
       "    <tr>\n",
       "      <th>6</th>\n",
       "      <td>0</td>\n",
       "      <td>0</td>\n",
       "      <td>18</td>\n",
       "      <td>0</td>\n",
       "      <td>0</td>\n",
       "      <td>0</td>\n",
       "      <td>0</td>\n",
       "    </tr>\n",
       "    <tr>\n",
       "      <th>7</th>\n",
       "      <td>0</td>\n",
       "      <td>0</td>\n",
       "      <td>0</td>\n",
       "      <td>0</td>\n",
       "      <td>10</td>\n",
       "      <td>0</td>\n",
       "      <td>12</td>\n",
       "    </tr>\n",
       "    <tr>\n",
       "      <th>8</th>\n",
       "      <td>0</td>\n",
       "      <td>0</td>\n",
       "      <td>0</td>\n",
       "      <td>33</td>\n",
       "      <td>0</td>\n",
       "      <td>36</td>\n",
       "      <td>0</td>\n",
       "    </tr>\n",
       "    <tr>\n",
       "      <th>9</th>\n",
       "      <td>8</td>\n",
       "      <td>0</td>\n",
       "      <td>1</td>\n",
       "      <td>0</td>\n",
       "      <td>0</td>\n",
       "      <td>0</td>\n",
       "      <td>0</td>\n",
       "    </tr>\n",
       "    <tr>\n",
       "      <th>10</th>\n",
       "      <td>0</td>\n",
       "      <td>0</td>\n",
       "      <td>0</td>\n",
       "      <td>5</td>\n",
       "      <td>0</td>\n",
       "      <td>0</td>\n",
       "      <td>0</td>\n",
       "    </tr>\n",
       "    <tr>\n",
       "      <th>11</th>\n",
       "      <td>0</td>\n",
       "      <td>0</td>\n",
       "      <td>0</td>\n",
       "      <td>0</td>\n",
       "      <td>0</td>\n",
       "      <td>0</td>\n",
       "      <td>35</td>\n",
       "    </tr>\n",
       "    <tr>\n",
       "      <th>12</th>\n",
       "      <td>0</td>\n",
       "      <td>0</td>\n",
       "      <td>0</td>\n",
       "      <td>0</td>\n",
       "      <td>0</td>\n",
       "      <td>23</td>\n",
       "      <td>0</td>\n",
       "    </tr>\n",
       "    <tr>\n",
       "      <th>13</th>\n",
       "      <td>0</td>\n",
       "      <td>0</td>\n",
       "      <td>0</td>\n",
       "      <td>0</td>\n",
       "      <td>0</td>\n",
       "      <td>0</td>\n",
       "      <td>30</td>\n",
       "    </tr>\n",
       "    <tr>\n",
       "      <th>14</th>\n",
       "      <td>0</td>\n",
       "      <td>0</td>\n",
       "      <td>0</td>\n",
       "      <td>0</td>\n",
       "      <td>2</td>\n",
       "      <td>0</td>\n",
       "      <td>0</td>\n",
       "    </tr>\n",
       "    <tr>\n",
       "      <th>15</th>\n",
       "      <td>0</td>\n",
       "      <td>0</td>\n",
       "      <td>0</td>\n",
       "      <td>0</td>\n",
       "      <td>0</td>\n",
       "      <td>10</td>\n",
       "      <td>0</td>\n",
       "    </tr>\n",
       "    <tr>\n",
       "      <th>16</th>\n",
       "      <td>0</td>\n",
       "      <td>0</td>\n",
       "      <td>0</td>\n",
       "      <td>0</td>\n",
       "      <td>0</td>\n",
       "      <td>0</td>\n",
       "      <td>28</td>\n",
       "    </tr>\n",
       "    <tr>\n",
       "      <th>17</th>\n",
       "      <td>0</td>\n",
       "      <td>0</td>\n",
       "      <td>29</td>\n",
       "      <td>0</td>\n",
       "      <td>0</td>\n",
       "      <td>0</td>\n",
       "      <td>0</td>\n",
       "    </tr>\n",
       "    <tr>\n",
       "      <th>18</th>\n",
       "      <td>0</td>\n",
       "      <td>0</td>\n",
       "      <td>0</td>\n",
       "      <td>0</td>\n",
       "      <td>0</td>\n",
       "      <td>0</td>\n",
       "      <td>14</td>\n",
       "    </tr>\n",
       "    <tr>\n",
       "      <th>19</th>\n",
       "      <td>0</td>\n",
       "      <td>0</td>\n",
       "      <td>0</td>\n",
       "      <td>0</td>\n",
       "      <td>0</td>\n",
       "      <td>0</td>\n",
       "      <td>8</td>\n",
       "    </tr>\n",
       "    <tr>\n",
       "      <th>20</th>\n",
       "      <td>0</td>\n",
       "      <td>0</td>\n",
       "      <td>0</td>\n",
       "      <td>0</td>\n",
       "      <td>0</td>\n",
       "      <td>0</td>\n",
       "      <td>16</td>\n",
       "    </tr>\n",
       "    <tr>\n",
       "      <th>21</th>\n",
       "      <td>0</td>\n",
       "      <td>0</td>\n",
       "      <td>0</td>\n",
       "      <td>0</td>\n",
       "      <td>14</td>\n",
       "      <td>0</td>\n",
       "      <td>37</td>\n",
       "    </tr>\n",
       "    <tr>\n",
       "      <th>22</th>\n",
       "      <td>0</td>\n",
       "      <td>2</td>\n",
       "      <td>0</td>\n",
       "      <td>0</td>\n",
       "      <td>0</td>\n",
       "      <td>0</td>\n",
       "      <td>0</td>\n",
       "    </tr>\n",
       "  </tbody>\n",
       "</table>\n",
       "</div>"
      ],
      "text/plain": [
       "Scanner  GE 1.5T  GE 3T  Philips 3T  Siemens 1.5T  Siemens Prisma 3T  \\\n",
       "Site                                                                   \n",
       "0              0      0           0             0                  0   \n",
       "1              0      0          45             0                  0   \n",
       "2              0      0           0             0                  3   \n",
       "3              0      0         143             0                  0   \n",
       "4              0      0           3             0                  0   \n",
       "5              0     25           0             0                  6   \n",
       "6              0      0          18             0                  0   \n",
       "7              0      0           0             0                 10   \n",
       "8              0      0           0            33                  0   \n",
       "9              8      0           1             0                  0   \n",
       "10             0      0           0             5                  0   \n",
       "11             0      0           0             0                  0   \n",
       "12             0      0           0             0                  0   \n",
       "13             0      0           0             0                  0   \n",
       "14             0      0           0             0                  2   \n",
       "15             0      0           0             0                  0   \n",
       "16             0      0           0             0                  0   \n",
       "17             0      0          29             0                  0   \n",
       "18             0      0           0             0                  0   \n",
       "19             0      0           0             0                  0   \n",
       "20             0      0           0             0                  0   \n",
       "21             0      0           0             0                 14   \n",
       "22             0      2           0             0                  0   \n",
       "\n",
       "Scanner  Siemens Skyra 3T  Siemens Trio 3T  \n",
       "Site                                        \n",
       "0                       8               20  \n",
       "1                       0                0  \n",
       "2                       0                0  \n",
       "3                       0                0  \n",
       "4                       0                0  \n",
       "5                       0                0  \n",
       "6                       0                0  \n",
       "7                       0               12  \n",
       "8                      36                0  \n",
       "9                       0                0  \n",
       "10                      0                0  \n",
       "11                      0               35  \n",
       "12                     23                0  \n",
       "13                      0               30  \n",
       "14                      0                0  \n",
       "15                     10                0  \n",
       "16                      0               28  \n",
       "17                      0                0  \n",
       "18                      0               14  \n",
       "19                      0                8  \n",
       "20                      0               16  \n",
       "21                      0               37  \n",
       "22                      0                0  "
      ]
     },
     "execution_count": 98,
     "metadata": {},
     "output_type": "execute_result"
    }
   ],
   "source": [
    "pd.crosstab(df_xsec['Site'],df_xsec['Scanner'])"
   ]
  },
  {
   "cell_type": "markdown",
   "id": "6bd85953-073f-4d3f-9626-2c08c31f5808",
   "metadata": {},
   "source": [
    "## Analysis\n",
    "Now that we have the data,we have three groups. Let's take a look at a couple of structures and see what edifferences they are.\n",
    "### Simple regression no sites\n",
    "We will compare the groups using sex, age, and TIV only as covariates."
   ]
  },
  {
   "cell_type": "code",
   "execution_count": 99,
   "id": "1067e4cf-ac4a-4573-8f5a-1f1df3a9d042",
   "metadata": {},
   "outputs": [
    {
     "data": {
      "text/html": [
       "<style type=\"text/css\">\n",
       "</style>\n",
       "<table id=\"T_5e39e_\">\n",
       "  <thead>\n",
       "    <tr>\n",
       "      <th class=\"blank level0\" >&nbsp;</th>\n",
       "      <th class=\"col_heading level0 col0\" colspan=\"4\">Age</th>\n",
       "      <th class=\"col_heading level0 col4\" colspan=\"4\">EYO</th>\n",
       "      <th class=\"col_heading level0 col8\" colspan=\"4\">TIV</th>\n",
       "    </tr>\n",
       "    <tr>\n",
       "      <th class=\"blank level1\" >&nbsp;</th>\n",
       "      <th class=\"col_heading level1 col0\" >mean</th>\n",
       "      <th class=\"col_heading level1 col1\" >std</th>\n",
       "      <th class=\"col_heading level1 col2\" >min</th>\n",
       "      <th class=\"col_heading level1 col3\" >max</th>\n",
       "      <th class=\"col_heading level1 col4\" >mean</th>\n",
       "      <th class=\"col_heading level1 col5\" >std</th>\n",
       "      <th class=\"col_heading level1 col6\" >min</th>\n",
       "      <th class=\"col_heading level1 col7\" >max</th>\n",
       "      <th class=\"col_heading level1 col8\" >mean</th>\n",
       "      <th class=\"col_heading level1 col9\" >std</th>\n",
       "      <th class=\"col_heading level1 col10\" >min</th>\n",
       "      <th class=\"col_heading level1 col11\" >max</th>\n",
       "    </tr>\n",
       "    <tr>\n",
       "      <th class=\"index_name level0\" >Group</th>\n",
       "      <th class=\"blank col0\" >&nbsp;</th>\n",
       "      <th class=\"blank col1\" >&nbsp;</th>\n",
       "      <th class=\"blank col2\" >&nbsp;</th>\n",
       "      <th class=\"blank col3\" >&nbsp;</th>\n",
       "      <th class=\"blank col4\" >&nbsp;</th>\n",
       "      <th class=\"blank col5\" >&nbsp;</th>\n",
       "      <th class=\"blank col6\" >&nbsp;</th>\n",
       "      <th class=\"blank col7\" >&nbsp;</th>\n",
       "      <th class=\"blank col8\" >&nbsp;</th>\n",
       "      <th class=\"blank col9\" >&nbsp;</th>\n",
       "      <th class=\"blank col10\" >&nbsp;</th>\n",
       "      <th class=\"blank col11\" >&nbsp;</th>\n",
       "    </tr>\n",
       "  </thead>\n",
       "  <tbody>\n",
       "    <tr>\n",
       "      <th id=\"T_5e39e_level0_row0\" class=\"row_heading level0 row0\" >Non-carrier</th>\n",
       "      <td id=\"T_5e39e_row0_col0\" class=\"data row0 col0\" >46.95</td>\n",
       "      <td id=\"T_5e39e_row0_col1\" class=\"data row0 col1\" >13.70</td>\n",
       "      <td id=\"T_5e39e_row0_col2\" class=\"data row0 col2\" >18.60</td>\n",
       "      <td id=\"T_5e39e_row0_col3\" class=\"data row0 col3\" >85.70</td>\n",
       "      <td id=\"T_5e39e_row0_col4\" class=\"data row0 col4\" >-12.78</td>\n",
       "      <td id=\"T_5e39e_row0_col5\" class=\"data row0 col5\" >14.31</td>\n",
       "      <td id=\"T_5e39e_row0_col6\" class=\"data row0 col6\" >-50.00</td>\n",
       "      <td id=\"T_5e39e_row0_col7\" class=\"data row0 col7\" >27.60</td>\n",
       "      <td id=\"T_5e39e_row0_col8\" class=\"data row0 col8\" >1,420.48</td>\n",
       "      <td id=\"T_5e39e_row0_col9\" class=\"data row0 col9\" >142.47</td>\n",
       "      <td id=\"T_5e39e_row0_col10\" class=\"data row0 col10\" >1,100.70</td>\n",
       "      <td id=\"T_5e39e_row0_col11\" class=\"data row0 col11\" >2,051.70</td>\n",
       "    </tr>\n",
       "    <tr>\n",
       "      <th id=\"T_5e39e_level0_row1\" class=\"row_heading level0 row1\" >Presymptomatic</th>\n",
       "      <td id=\"T_5e39e_row1_col0\" class=\"data row1 col0\" >44.78</td>\n",
       "      <td id=\"T_5e39e_row1_col1\" class=\"data row1 col1\" >11.91</td>\n",
       "      <td id=\"T_5e39e_row1_col2\" class=\"data row1 col2\" >20.10</td>\n",
       "      <td id=\"T_5e39e_row1_col3\" class=\"data row1 col3\" >75.50</td>\n",
       "      <td id=\"T_5e39e_row1_col4\" class=\"data row1 col4\" >-13.81</td>\n",
       "      <td id=\"T_5e39e_row1_col5\" class=\"data row1 col5\" >11.48</td>\n",
       "      <td id=\"T_5e39e_row1_col6\" class=\"data row1 col6\" >-47.40</td>\n",
       "      <td id=\"T_5e39e_row1_col7\" class=\"data row1 col7\" >15.70</td>\n",
       "      <td id=\"T_5e39e_row1_col8\" class=\"data row1 col8\" >1,412.19</td>\n",
       "      <td id=\"T_5e39e_row1_col9\" class=\"data row1 col9\" >137.71</td>\n",
       "      <td id=\"T_5e39e_row1_col10\" class=\"data row1 col10\" >1,074.70</td>\n",
       "      <td id=\"T_5e39e_row1_col11\" class=\"data row1 col11\" >1,811.50</td>\n",
       "    </tr>\n",
       "    <tr>\n",
       "      <th id=\"T_5e39e_level0_row2\" class=\"row_heading level0 row2\" >Symptomatic</th>\n",
       "      <td id=\"T_5e39e_row2_col0\" class=\"data row2 col0\" >63.01</td>\n",
       "      <td id=\"T_5e39e_row2_col1\" class=\"data row2 col1\" >8.17</td>\n",
       "      <td id=\"T_5e39e_row2_col2\" class=\"data row2 col2\" >32.90</td>\n",
       "      <td id=\"T_5e39e_row2_col3\" class=\"data row2 col3\" >78.70</td>\n",
       "      <td id=\"T_5e39e_row2_col4\" class=\"data row2 col4\" >3.43</td>\n",
       "      <td id=\"T_5e39e_row2_col5\" class=\"data row2 col5\" >6.91</td>\n",
       "      <td id=\"T_5e39e_row2_col6\" class=\"data row2 col6\" >-26.10</td>\n",
       "      <td id=\"T_5e39e_row2_col7\" class=\"data row2 col7\" >21.70</td>\n",
       "      <td id=\"T_5e39e_row2_col8\" class=\"data row2 col8\" >1,442.30</td>\n",
       "      <td id=\"T_5e39e_row2_col9\" class=\"data row2 col9\" >157.82</td>\n",
       "      <td id=\"T_5e39e_row2_col10\" class=\"data row2 col10\" >1,129.50</td>\n",
       "      <td id=\"T_5e39e_row2_col11\" class=\"data row2 col11\" >1,848.90</td>\n",
       "    </tr>\n",
       "  </tbody>\n",
       "</table>\n"
      ],
      "text/plain": [
       "<pandas.io.formats.style.Styler at 0x7f891725ee10>"
      ]
     },
     "execution_count": 99,
     "metadata": {},
     "output_type": "execute_result"
    }
   ],
   "source": [
    "df_xsec.groupby(\"Group\").agg(\n",
    "    {\n",
    "        \"Age\": [\"mean\", \"std\", \"min\", \"max\" ],\n",
    "        \"EYO\": [\"mean\", \"std\", \"min\", \"max\" ],\n",
    "        \"TIV\": [\"mean\", \"std\", \"min\", \"max\" ]\n",
    "    }\n",
    ").style.format('{0:,.2f}')"
   ]
  },
  {
   "cell_type": "markdown",
   "id": "a7b4684d-9cb7-4239-b6ed-9fe42fecd4c0",
   "metadata": {},
   "source": [
    "### Checking for site differences\n",
    "Are their differences in site or scanner that are occuring in this data. Let's run the same analysis again including them as a covariate. For this, we will need the python package scikit-learn"
   ]
  },
  {
   "cell_type": "code",
   "execution_count": 100,
   "id": "edbb3834-561c-4534-b3be-145671227fd8",
   "metadata": {},
   "outputs": [],
   "source": [
    "from sklearn.linear_model import LinearRegression"
   ]
  },
  {
   "cell_type": "markdown",
   "id": "7bd61b05-8cca-49e7-8dfa-9de8387f594e",
   "metadata": {},
   "source": [
    "The X variable contains all of our independent covariates. The Y variable contains our desired outcome"
   ]
  },
  {
   "cell_type": "code",
   "execution_count": 101,
   "id": "45691c7d-0899-407b-9df9-65a48c17f825",
   "metadata": {},
   "outputs": [],
   "source": [
    "df_xsec=df_xsec.dropna(subset=[\"Group\",\"Age\",\"Sex\",\"TIV\"])\n",
    "X = df_xsec[[\"Group\",\"Age\",\"Sex\",\"TIV\"]]\n",
    "X = pd.get_dummies(data=X, drop_first=True)\n",
    "y = df_xsec[\"Left Insula volume\"] + df_xsec[\"Right Insula volume\"]"
   ]
  },
  {
   "cell_type": "code",
   "execution_count": 102,
   "id": "e2e94d92-73bc-45e7-9d2d-ff2df0990c69",
   "metadata": {},
   "outputs": [
    {
     "data": {
      "text/plain": [
       "LinearRegression()"
      ]
     },
     "execution_count": 102,
     "metadata": {},
     "output_type": "execute_result"
    }
   ],
   "source": [
    "linear_regressor = LinearRegression()  # create object for the class\n",
    "linear_regressor.fit(X, y)  # perform linear regression"
   ]
  },
  {
   "cell_type": "code",
   "execution_count": 106,
   "id": "e76e84ef-4773-437d-b2c5-562c7cd16813",
   "metadata": {},
   "outputs": [
    {
     "name": "stdout",
     "output_type": "stream",
     "text": [
      "['Age', 'TIV', 'Group_Presymptomatic', 'Group_Symptomatic', 'Sex_Male']\n",
      "3932.3729049353115\n",
      "[  -40.61251411     6.17734497  -223.44222734 -2147.24043702\n",
      "  -100.28443119]\n"
     ]
    },
    {
     "data": {
      "text/plain": [
       "0.7112441075723002"
      ]
     },
     "execution_count": 106,
     "metadata": {},
     "output_type": "execute_result"
    }
   ],
   "source": [
    "print(list(X.columns))\n",
    "print(linear_regressor.intercept_)\n",
    "print(linear_regressor.coef_)\n",
    "linear_regressor.score(X,y)"
   ]
  },
  {
   "cell_type": "code",
   "execution_count": 104,
   "id": "a725a4bf-853d-46cd-ad0c-cf75a49ddf2e",
   "metadata": {},
   "outputs": [
    {
     "data": {
      "text/plain": [
       "LinearRegression()"
      ]
     },
     "execution_count": 104,
     "metadata": {},
     "output_type": "execute_result"
    }
   ],
   "source": [
    "siteX = df_xsec[[\"Group\",\"Age\",\"Sex\",\"TIV\",\"Site\"]]\n",
    "siteX = pd.get_dummies(data=siteX, drop_first=True)\n",
    "regressor_with_site = LinearRegression()  # create object for the class\n",
    "regressor_with_site.fit(siteX, y)  # perform linear regression"
   ]
  },
  {
   "cell_type": "code",
   "execution_count": 107,
   "id": "289027a1-f1f6-4bad-a27d-08e96d97fc90",
   "metadata": {},
   "outputs": [
    {
     "name": "stdout",
     "output_type": "stream",
     "text": [
      "['Age', 'TIV', 'Group_Presymptomatic', 'Group_Symptomatic', 'Sex_Male', 'Site_1', 'Site_2', 'Site_3', 'Site_4', 'Site_5', 'Site_6', 'Site_7', 'Site_8', 'Site_9', 'Site_10', 'Site_11', 'Site_12', 'Site_13', 'Site_14', 'Site_15', 'Site_16', 'Site_17', 'Site_18', 'Site_19', 'Site_20', 'Site_21', 'Site_22']\n",
      "4150.738604939085\n",
      "[  -42.37708002     5.9090495   -208.0305405  -2087.44332263\n",
      "   -34.51568108    42.0873887  -1001.83582594   454.67919697\n",
      "  -276.86968655   487.72012179  -101.76563507   -81.15427676\n",
      "   440.95751922   118.43877925  -149.53246397    -4.94621358\n",
      "   103.05184684   -77.07673731  -120.31270881   474.23190449\n",
      "   323.61336057   -11.37350027   123.50818612  -153.54284841\n",
      "  -414.4583679    266.39314966   685.18640196]\n"
     ]
    },
    {
     "data": {
      "text/plain": [
       "0.7348822949249503"
      ]
     },
     "execution_count": 107,
     "metadata": {},
     "output_type": "execute_result"
    }
   ],
   "source": [
    "print(list(siteX.columns))\n",
    "print(regressor_with_site.intercept_)\n",
    "print(regressor_with_site.coef_)\n",
    "regressor_with_site.score(siteX,y)"
   ]
  },
  {
   "cell_type": "markdown",
   "id": "854244d2-0546-40e8-a30d-01e58d3b84c3",
   "metadata": {},
   "source": [
    "### Turning to combat\n",
    "This is really helpful, but what if there are difference in standard error between sites, and how can we trust those small sample size in some cells. Let's try this with COMbat instead."
   ]
  },
  {
   "cell_type": "code",
   "execution_count": null,
   "id": "cb5da443-8217-4972-b223-ad25f4bf56c6",
   "metadata": {},
   "outputs": [],
   "source": []
  }
 ],
 "metadata": {
  "kernelspec": {
   "display_name": "Python 3 (ipykernel)",
   "language": "python",
   "name": "python3"
  },
  "language_info": {
   "codemirror_mode": {
    "name": "ipython",
    "version": 3
   },
   "file_extension": ".py",
   "mimetype": "text/x-python",
   "name": "python",
   "nbconvert_exporter": "python",
   "pygments_lexer": "ipython3",
   "version": "3.7.10"
  }
 },
 "nbformat": 4,
 "nbformat_minor": 5
}
