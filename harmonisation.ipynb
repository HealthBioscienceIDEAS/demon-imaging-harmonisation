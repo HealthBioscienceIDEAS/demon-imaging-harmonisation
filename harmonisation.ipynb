{
 "cells": [
  {
   "cell_type": "code",
   "execution_count": null,
   "id": "97a0a551-c646-4d87-8786-7726d75efde1",
   "metadata": {},
   "outputs": [],
   "source": [
    "import os\n",
    "import numpy as np\n",
    "import pandas as pd"
   ]
  },
  {
   "cell_type": "code",
   "execution_count": null,
   "id": "2b5d5148-2ef3-4fc8-924f-52bee498c2e9",
   "metadata": {},
   "outputs": [],
   "source": [
    "df_xsec=pd.read_excel('GENFI_DEMON_SPREADSHEET.xlsx')"
   ]
  },
  {
   "cell_type": "code",
   "execution_count": null,
   "id": "ca77bd75-e571-4921-b950-4603c4519919",
   "metadata": {},
   "outputs": [],
   "source": [
    "pd.crosstab(df_xsec['Site'],df_xsec['Scanner'])"
   ]
  }
 ],
 "metadata": {
  "kernelspec": {
   "display_name": "Python 3 (ipykernel)",
   "language": "python",
   "name": "python3"
  },
  "language_info": {
   "codemirror_mode": {
    "name": "ipython",
    "version": 3
   },
   "file_extension": ".py",
   "mimetype": "text/x-python",
   "name": "python",
   "nbconvert_exporter": "python",
   "pygments_lexer": "ipython3",
   "version": "3.7.10"
  }
 },
 "nbformat": 4,
 "nbformat_minor": 5
}
