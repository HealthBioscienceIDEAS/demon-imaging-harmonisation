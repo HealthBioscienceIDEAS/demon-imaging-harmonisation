{
 "cells": [
  {
   "cell_type": "markdown",
   "id": "38eb51df-e0dd-41b4-93fe-30720b54a859",
   "metadata": {},
   "source": [
    "# Harmonisation strategies\n",
    "## Author: David M Cash\n",
    "## Principal Research Fellow, Dementia Research Centre, UCL Queen Square Institute of Neurology\n",
    "\n",
    "## Introduction\n",
    "This notebook was made as part of the **Health and Bioscience IDEAS** training programme, funded by the [UKRI Innovation Scholars](https://www.ukri.org/opportunity/innovation-scholars-data-science-training-in-health-bioscience/) Data Science Training in Health and Bioscience. Please visit [our website](https://healthbioscienceideas.github.io/) for more information.\n",
    "\n",
    "This notebook will give a brief example of how to correct, or harmonize for site-related differences in image biomarkers. This problem is cropping up more and more often as we need multi-site data to have large enough sample sizes for many research applications, particularly for those that are based on machine learning and need a large enough training set to produce an accurate model. For more background on this, please see the [accompanying documenation](https://healthbioscienceideas.github.io/demon-imaging-harmonisation/). \n"
   ]
  },
  {
   "cell_type": "code",
   "execution_count": 1,
   "id": "97a0a551-c646-4d87-8786-7726d75efde1",
   "metadata": {},
   "outputs": [],
   "source": [
    "import os\n",
    "import nest_asyncio\n",
    "nest_asyncio.apply()\n",
    "import numpy as np\n",
    "import pandas as pd\n",
    "import datalad.api as dl"
   ]
  },
  {
   "cell_type": "markdown",
   "id": "a43bb069-590b-44ad-b26a-c6ef1a63c30e",
   "metadata": {},
   "source": [
    "As in the previous notebook, we will grab the data for the lesson using datalad. This time we will ne using a spreadsheet that has  all the imgaging volumes for the study and read it into memory. This data is a limited dataset from [GENFI](https://www.genfi.org/) a multi-site study of genetic frontotemporal dementia."
   ]
  },
  {
   "cell_type": "code",
   "execution_count": 2,
   "id": "73cd931a-36bd-4051-b688-6eaf2659afce",
   "metadata": {},
   "outputs": [
    {
     "name": "stderr",
     "output_type": "stream",
     "text": [
      "[INFO] Fetching updates for Dataset(/tmp/sample) \n"
     ]
    },
    {
     "name": "stdout",
     "output_type": "stream",
     "text": [
      ".: demons-data(?) [git]\n"
     ]
    }
   ],
   "source": [
    "dl_source='https://github.com/HealthBioscienceIDEAS/demon-imaging-data.git'\n",
    "sample=dl.clone(dl_source,path='/tmp/sample',description='Cloned sample dataset for import')\n",
    "sample.update(merge=True)\n",
    "sample.siblings(action='enable',name='demons-data')\n",
    "in_file=sample.get('./GENFI_DEMON_SPREADSHEET.xlsx')"
   ]
  },
  {
   "cell_type": "markdown",
   "id": "ecab119a-6338-41c4-881b-2a5fbee29308",
   "metadata": {},
   "source": [
    "For the pusporses of some of the regression methods, I am making some of the variables categorical in nature. "
   ]
  },
  {
   "cell_type": "code",
   "execution_count": 3,
   "id": "2b5d5148-2ef3-4fc8-924f-52bee498c2e9",
   "metadata": {},
   "outputs": [],
   "source": [
    "df_xsec=pd.read_excel(in_file[0]['path'])\n",
    "df_xsec['Sex']=pd.Categorical(df_xsec['Sex'],categories=[0,1])\n",
    "df_xsec['Sex']=df_xsec['Sex'].cat.rename_categories(['Female','Male'])\n",
    "df_xsec['Site'] = pd.Categorical(df_xsec['Site'],categories=np.arange(23))\n",
    "df_xsec['Group']=pd.Categorical(df_xsec['Group'],categories=[0,1,2])\n",
    "df_xsec['Group']=df_xsec['Group'].cat.rename_categories(['Non-carrier','Presymptomatic','Symptomatic'])"
   ]
  },
  {
   "cell_type": "markdown",
   "id": "2f6d39cf-fa46-4359-95db-2d87db2661fd",
   "metadata": {},
   "source": [
    "Next I will produce a quick crosstab to show the number of individuals scanned at each site and with each scanner. Here are some of the key points for this table:\n",
    "* Some sites have a lot more data than others. The largest site has 143 individuals while the smallest has 2.\n",
    "* Out of the 22 sites, there are only 7 scanner models being used.\n",
    "* Some sites have switched scanners midway through the study (See Site 8)."
   ]
  },
  {
   "cell_type": "code",
   "execution_count": 4,
   "id": "ca77bd75-e571-4921-b950-4603c4519919",
   "metadata": {},
   "outputs": [
    {
     "data": {
      "text/html": [
       "<div>\n",
       "<style scoped>\n",
       "    .dataframe tbody tr th:only-of-type {\n",
       "        vertical-align: middle;\n",
       "    }\n",
       "\n",
       "    .dataframe tbody tr th {\n",
       "        vertical-align: top;\n",
       "    }\n",
       "\n",
       "    .dataframe thead th {\n",
       "        text-align: right;\n",
       "    }\n",
       "</style>\n",
       "<table border=\"1\" class=\"dataframe\">\n",
       "  <thead>\n",
       "    <tr style=\"text-align: right;\">\n",
       "      <th>Scanner</th>\n",
       "      <th>GE 1.5T</th>\n",
       "      <th>GE 3T</th>\n",
       "      <th>Philips 3T</th>\n",
       "      <th>Siemens 1.5T</th>\n",
       "      <th>Siemens Prisma 3T</th>\n",
       "      <th>Siemens Skyra 3T</th>\n",
       "      <th>Siemens Trio 3T</th>\n",
       "    </tr>\n",
       "    <tr>\n",
       "      <th>Site</th>\n",
       "      <th></th>\n",
       "      <th></th>\n",
       "      <th></th>\n",
       "      <th></th>\n",
       "      <th></th>\n",
       "      <th></th>\n",
       "      <th></th>\n",
       "    </tr>\n",
       "  </thead>\n",
       "  <tbody>\n",
       "    <tr>\n",
       "      <th>0</th>\n",
       "      <td>0</td>\n",
       "      <td>0</td>\n",
       "      <td>0</td>\n",
       "      <td>0</td>\n",
       "      <td>0</td>\n",
       "      <td>8</td>\n",
       "      <td>20</td>\n",
       "    </tr>\n",
       "    <tr>\n",
       "      <th>1</th>\n",
       "      <td>0</td>\n",
       "      <td>0</td>\n",
       "      <td>45</td>\n",
       "      <td>0</td>\n",
       "      <td>0</td>\n",
       "      <td>0</td>\n",
       "      <td>0</td>\n",
       "    </tr>\n",
       "    <tr>\n",
       "      <th>2</th>\n",
       "      <td>0</td>\n",
       "      <td>0</td>\n",
       "      <td>0</td>\n",
       "      <td>0</td>\n",
       "      <td>3</td>\n",
       "      <td>0</td>\n",
       "      <td>0</td>\n",
       "    </tr>\n",
       "    <tr>\n",
       "      <th>3</th>\n",
       "      <td>0</td>\n",
       "      <td>0</td>\n",
       "      <td>143</td>\n",
       "      <td>0</td>\n",
       "      <td>0</td>\n",
       "      <td>0</td>\n",
       "      <td>0</td>\n",
       "    </tr>\n",
       "    <tr>\n",
       "      <th>4</th>\n",
       "      <td>0</td>\n",
       "      <td>0</td>\n",
       "      <td>3</td>\n",
       "      <td>0</td>\n",
       "      <td>0</td>\n",
       "      <td>0</td>\n",
       "      <td>0</td>\n",
       "    </tr>\n",
       "    <tr>\n",
       "      <th>5</th>\n",
       "      <td>0</td>\n",
       "      <td>25</td>\n",
       "      <td>0</td>\n",
       "      <td>0</td>\n",
       "      <td>6</td>\n",
       "      <td>0</td>\n",
       "      <td>0</td>\n",
       "    </tr>\n",
       "    <tr>\n",
       "      <th>6</th>\n",
       "      <td>0</td>\n",
       "      <td>0</td>\n",
       "      <td>18</td>\n",
       "      <td>0</td>\n",
       "      <td>0</td>\n",
       "      <td>0</td>\n",
       "      <td>0</td>\n",
       "    </tr>\n",
       "    <tr>\n",
       "      <th>7</th>\n",
       "      <td>0</td>\n",
       "      <td>0</td>\n",
       "      <td>0</td>\n",
       "      <td>0</td>\n",
       "      <td>10</td>\n",
       "      <td>0</td>\n",
       "      <td>12</td>\n",
       "    </tr>\n",
       "    <tr>\n",
       "      <th>8</th>\n",
       "      <td>0</td>\n",
       "      <td>0</td>\n",
       "      <td>0</td>\n",
       "      <td>33</td>\n",
       "      <td>0</td>\n",
       "      <td>36</td>\n",
       "      <td>0</td>\n",
       "    </tr>\n",
       "    <tr>\n",
       "      <th>9</th>\n",
       "      <td>8</td>\n",
       "      <td>0</td>\n",
       "      <td>1</td>\n",
       "      <td>0</td>\n",
       "      <td>0</td>\n",
       "      <td>0</td>\n",
       "      <td>0</td>\n",
       "    </tr>\n",
       "    <tr>\n",
       "      <th>10</th>\n",
       "      <td>0</td>\n",
       "      <td>0</td>\n",
       "      <td>0</td>\n",
       "      <td>5</td>\n",
       "      <td>0</td>\n",
       "      <td>0</td>\n",
       "      <td>0</td>\n",
       "    </tr>\n",
       "    <tr>\n",
       "      <th>11</th>\n",
       "      <td>0</td>\n",
       "      <td>0</td>\n",
       "      <td>0</td>\n",
       "      <td>0</td>\n",
       "      <td>0</td>\n",
       "      <td>0</td>\n",
       "      <td>35</td>\n",
       "    </tr>\n",
       "    <tr>\n",
       "      <th>12</th>\n",
       "      <td>0</td>\n",
       "      <td>0</td>\n",
       "      <td>0</td>\n",
       "      <td>0</td>\n",
       "      <td>0</td>\n",
       "      <td>23</td>\n",
       "      <td>0</td>\n",
       "    </tr>\n",
       "    <tr>\n",
       "      <th>13</th>\n",
       "      <td>0</td>\n",
       "      <td>0</td>\n",
       "      <td>0</td>\n",
       "      <td>0</td>\n",
       "      <td>0</td>\n",
       "      <td>0</td>\n",
       "      <td>30</td>\n",
       "    </tr>\n",
       "    <tr>\n",
       "      <th>14</th>\n",
       "      <td>0</td>\n",
       "      <td>0</td>\n",
       "      <td>0</td>\n",
       "      <td>0</td>\n",
       "      <td>2</td>\n",
       "      <td>0</td>\n",
       "      <td>0</td>\n",
       "    </tr>\n",
       "    <tr>\n",
       "      <th>15</th>\n",
       "      <td>0</td>\n",
       "      <td>0</td>\n",
       "      <td>0</td>\n",
       "      <td>0</td>\n",
       "      <td>0</td>\n",
       "      <td>10</td>\n",
       "      <td>0</td>\n",
       "    </tr>\n",
       "    <tr>\n",
       "      <th>16</th>\n",
       "      <td>0</td>\n",
       "      <td>0</td>\n",
       "      <td>0</td>\n",
       "      <td>0</td>\n",
       "      <td>0</td>\n",
       "      <td>0</td>\n",
       "      <td>28</td>\n",
       "    </tr>\n",
       "    <tr>\n",
       "      <th>17</th>\n",
       "      <td>0</td>\n",
       "      <td>0</td>\n",
       "      <td>29</td>\n",
       "      <td>0</td>\n",
       "      <td>0</td>\n",
       "      <td>0</td>\n",
       "      <td>0</td>\n",
       "    </tr>\n",
       "    <tr>\n",
       "      <th>18</th>\n",
       "      <td>0</td>\n",
       "      <td>0</td>\n",
       "      <td>0</td>\n",
       "      <td>0</td>\n",
       "      <td>0</td>\n",
       "      <td>0</td>\n",
       "      <td>14</td>\n",
       "    </tr>\n",
       "    <tr>\n",
       "      <th>19</th>\n",
       "      <td>0</td>\n",
       "      <td>0</td>\n",
       "      <td>0</td>\n",
       "      <td>0</td>\n",
       "      <td>0</td>\n",
       "      <td>0</td>\n",
       "      <td>8</td>\n",
       "    </tr>\n",
       "    <tr>\n",
       "      <th>20</th>\n",
       "      <td>0</td>\n",
       "      <td>0</td>\n",
       "      <td>0</td>\n",
       "      <td>0</td>\n",
       "      <td>0</td>\n",
       "      <td>0</td>\n",
       "      <td>16</td>\n",
       "    </tr>\n",
       "    <tr>\n",
       "      <th>21</th>\n",
       "      <td>0</td>\n",
       "      <td>0</td>\n",
       "      <td>0</td>\n",
       "      <td>0</td>\n",
       "      <td>14</td>\n",
       "      <td>0</td>\n",
       "      <td>37</td>\n",
       "    </tr>\n",
       "    <tr>\n",
       "      <th>22</th>\n",
       "      <td>0</td>\n",
       "      <td>2</td>\n",
       "      <td>0</td>\n",
       "      <td>0</td>\n",
       "      <td>0</td>\n",
       "      <td>0</td>\n",
       "      <td>0</td>\n",
       "    </tr>\n",
       "  </tbody>\n",
       "</table>\n",
       "</div>"
      ],
      "text/plain": [
       "Scanner  GE 1.5T  GE 3T  Philips 3T  Siemens 1.5T  Siemens Prisma 3T  \\\n",
       "Site                                                                   \n",
       "0              0      0           0             0                  0   \n",
       "1              0      0          45             0                  0   \n",
       "2              0      0           0             0                  3   \n",
       "3              0      0         143             0                  0   \n",
       "4              0      0           3             0                  0   \n",
       "5              0     25           0             0                  6   \n",
       "6              0      0          18             0                  0   \n",
       "7              0      0           0             0                 10   \n",
       "8              0      0           0            33                  0   \n",
       "9              8      0           1             0                  0   \n",
       "10             0      0           0             5                  0   \n",
       "11             0      0           0             0                  0   \n",
       "12             0      0           0             0                  0   \n",
       "13             0      0           0             0                  0   \n",
       "14             0      0           0             0                  2   \n",
       "15             0      0           0             0                  0   \n",
       "16             0      0           0             0                  0   \n",
       "17             0      0          29             0                  0   \n",
       "18             0      0           0             0                  0   \n",
       "19             0      0           0             0                  0   \n",
       "20             0      0           0             0                  0   \n",
       "21             0      0           0             0                 14   \n",
       "22             0      2           0             0                  0   \n",
       "\n",
       "Scanner  Siemens Skyra 3T  Siemens Trio 3T  \n",
       "Site                                        \n",
       "0                       8               20  \n",
       "1                       0                0  \n",
       "2                       0                0  \n",
       "3                       0                0  \n",
       "4                       0                0  \n",
       "5                       0                0  \n",
       "6                       0                0  \n",
       "7                       0               12  \n",
       "8                      36                0  \n",
       "9                       0                0  \n",
       "10                      0                0  \n",
       "11                      0               35  \n",
       "12                     23                0  \n",
       "13                      0               30  \n",
       "14                      0                0  \n",
       "15                     10                0  \n",
       "16                      0               28  \n",
       "17                      0                0  \n",
       "18                      0               14  \n",
       "19                      0                8  \n",
       "20                      0               16  \n",
       "21                      0               37  \n",
       "22                      0                0  "
      ]
     },
     "execution_count": 4,
     "metadata": {},
     "output_type": "execute_result"
    }
   ],
   "source": [
    "pd.crosstab(df_xsec['Site'],df_xsec['Scanner'])"
   ]
  },
  {
   "cell_type": "markdown",
   "id": "6bd85953-073f-4d3f-9626-2c08c31f5808",
   "metadata": {},
   "source": [
    "## Analysis\n",
    "The participants in the dataset fall into thre main clinical classifications (variable name **Group**). We want to examine what the between-group differences are for the volume of the insula, a key brain structure known to be affected early in frontotemporal dementia. But we do any statstical analysis, let;s get a few summary statistics, including the sample size and mean(standard deviation), min and max of three variables: \n",
    "* Age,\n",
    "* EYO - Estimated Years to symptom onset, and \n",
    "* TIV - total intracranial volume (TIV), a variable often used as a proxy for head size. Unlike other volumes in this spreadsheet, TIV is in ml not mm$^3$ (1ml=1000mm$^3$)"
   ]
  },
  {
   "cell_type": "code",
   "execution_count": 5,
   "id": "1067e4cf-ac4a-4573-8f5a-1f1df3a9d042",
   "metadata": {},
   "outputs": [
    {
     "data": {
      "text/html": [
       "<style type=\"text/css\">\n",
       "</style>\n",
       "<table id=\"T_df849_\">\n",
       "  <thead>\n",
       "    <tr>\n",
       "      <th class=\"blank level0\" >&nbsp;</th>\n",
       "      <th class=\"col_heading level0 col0\" >ID</th>\n",
       "      <th class=\"col_heading level0 col1\" colspan=\"4\">Age</th>\n",
       "      <th class=\"col_heading level0 col5\" colspan=\"4\">EYO</th>\n",
       "      <th class=\"col_heading level0 col9\" colspan=\"4\">TIV</th>\n",
       "    </tr>\n",
       "    <tr>\n",
       "      <th class=\"blank level1\" >&nbsp;</th>\n",
       "      <th class=\"col_heading level1 col0\" >count</th>\n",
       "      <th class=\"col_heading level1 col1\" >mean</th>\n",
       "      <th class=\"col_heading level1 col2\" >std</th>\n",
       "      <th class=\"col_heading level1 col3\" >min</th>\n",
       "      <th class=\"col_heading level1 col4\" >max</th>\n",
       "      <th class=\"col_heading level1 col5\" >mean</th>\n",
       "      <th class=\"col_heading level1 col6\" >std</th>\n",
       "      <th class=\"col_heading level1 col7\" >min</th>\n",
       "      <th class=\"col_heading level1 col8\" >max</th>\n",
       "      <th class=\"col_heading level1 col9\" >mean</th>\n",
       "      <th class=\"col_heading level1 col10\" >std</th>\n",
       "      <th class=\"col_heading level1 col11\" >min</th>\n",
       "      <th class=\"col_heading level1 col12\" >max</th>\n",
       "    </tr>\n",
       "    <tr>\n",
       "      <th class=\"index_name level0\" >Group</th>\n",
       "      <th class=\"blank col0\" >&nbsp;</th>\n",
       "      <th class=\"blank col1\" >&nbsp;</th>\n",
       "      <th class=\"blank col2\" >&nbsp;</th>\n",
       "      <th class=\"blank col3\" >&nbsp;</th>\n",
       "      <th class=\"blank col4\" >&nbsp;</th>\n",
       "      <th class=\"blank col5\" >&nbsp;</th>\n",
       "      <th class=\"blank col6\" >&nbsp;</th>\n",
       "      <th class=\"blank col7\" >&nbsp;</th>\n",
       "      <th class=\"blank col8\" >&nbsp;</th>\n",
       "      <th class=\"blank col9\" >&nbsp;</th>\n",
       "      <th class=\"blank col10\" >&nbsp;</th>\n",
       "      <th class=\"blank col11\" >&nbsp;</th>\n",
       "      <th class=\"blank col12\" >&nbsp;</th>\n",
       "    </tr>\n",
       "  </thead>\n",
       "  <tbody>\n",
       "    <tr>\n",
       "      <th id=\"T_df849_level0_row0\" class=\"row_heading level0 row0\" >Non-carrier</th>\n",
       "      <td id=\"T_df849_row0_col0\" class=\"data row0 col0\" >251</td>\n",
       "      <td id=\"T_df849_row0_col1\" class=\"data row0 col1\" >47.0</td>\n",
       "      <td id=\"T_df849_row0_col2\" class=\"data row0 col2\" >13.7</td>\n",
       "      <td id=\"T_df849_row0_col3\" class=\"data row0 col3\" >18.6</td>\n",
       "      <td id=\"T_df849_row0_col4\" class=\"data row0 col4\" >85.7</td>\n",
       "      <td id=\"T_df849_row0_col5\" class=\"data row0 col5\" >-12.8</td>\n",
       "      <td id=\"T_df849_row0_col6\" class=\"data row0 col6\" >14.3</td>\n",
       "      <td id=\"T_df849_row0_col7\" class=\"data row0 col7\" >-50.0</td>\n",
       "      <td id=\"T_df849_row0_col8\" class=\"data row0 col8\" >27.6</td>\n",
       "      <td id=\"T_df849_row0_col9\" class=\"data row0 col9\" >1420.5</td>\n",
       "      <td id=\"T_df849_row0_col10\" class=\"data row0 col10\" >142.5</td>\n",
       "      <td id=\"T_df849_row0_col11\" class=\"data row0 col11\" >1100.7</td>\n",
       "      <td id=\"T_df849_row0_col12\" class=\"data row0 col12\" >2051.7</td>\n",
       "    </tr>\n",
       "    <tr>\n",
       "      <th id=\"T_df849_level0_row1\" class=\"row_heading level0 row1\" >Presymptomatic</th>\n",
       "      <td id=\"T_df849_row1_col0\" class=\"data row1 col0\" >266</td>\n",
       "      <td id=\"T_df849_row1_col1\" class=\"data row1 col1\" >44.8</td>\n",
       "      <td id=\"T_df849_row1_col2\" class=\"data row1 col2\" >11.9</td>\n",
       "      <td id=\"T_df849_row1_col3\" class=\"data row1 col3\" >20.1</td>\n",
       "      <td id=\"T_df849_row1_col4\" class=\"data row1 col4\" >75.5</td>\n",
       "      <td id=\"T_df849_row1_col5\" class=\"data row1 col5\" >-13.8</td>\n",
       "      <td id=\"T_df849_row1_col6\" class=\"data row1 col6\" >11.5</td>\n",
       "      <td id=\"T_df849_row1_col7\" class=\"data row1 col7\" >-47.4</td>\n",
       "      <td id=\"T_df849_row1_col8\" class=\"data row1 col8\" >15.7</td>\n",
       "      <td id=\"T_df849_row1_col9\" class=\"data row1 col9\" >1412.2</td>\n",
       "      <td id=\"T_df849_row1_col10\" class=\"data row1 col10\" >137.7</td>\n",
       "      <td id=\"T_df849_row1_col11\" class=\"data row1 col11\" >1074.7</td>\n",
       "      <td id=\"T_df849_row1_col12\" class=\"data row1 col12\" >1811.5</td>\n",
       "    </tr>\n",
       "    <tr>\n",
       "      <th id=\"T_df849_level0_row2\" class=\"row_heading level0 row2\" >Symptomatic</th>\n",
       "      <td id=\"T_df849_row2_col0\" class=\"data row2 col0\" >107</td>\n",
       "      <td id=\"T_df849_row2_col1\" class=\"data row2 col1\" >63.0</td>\n",
       "      <td id=\"T_df849_row2_col2\" class=\"data row2 col2\" >8.2</td>\n",
       "      <td id=\"T_df849_row2_col3\" class=\"data row2 col3\" >32.9</td>\n",
       "      <td id=\"T_df849_row2_col4\" class=\"data row2 col4\" >78.7</td>\n",
       "      <td id=\"T_df849_row2_col5\" class=\"data row2 col5\" >3.4</td>\n",
       "      <td id=\"T_df849_row2_col6\" class=\"data row2 col6\" >6.9</td>\n",
       "      <td id=\"T_df849_row2_col7\" class=\"data row2 col7\" >-26.1</td>\n",
       "      <td id=\"T_df849_row2_col8\" class=\"data row2 col8\" >21.7</td>\n",
       "      <td id=\"T_df849_row2_col9\" class=\"data row2 col9\" >1442.3</td>\n",
       "      <td id=\"T_df849_row2_col10\" class=\"data row2 col10\" >157.8</td>\n",
       "      <td id=\"T_df849_row2_col11\" class=\"data row2 col11\" >1129.5</td>\n",
       "      <td id=\"T_df849_row2_col12\" class=\"data row2 col12\" >1848.9</td>\n",
       "    </tr>\n",
       "  </tbody>\n",
       "</table>\n"
      ],
      "text/plain": [
       "<pandas.io.formats.style.Styler at 0x7f86f9a73ed0>"
      ]
     },
     "execution_count": 5,
     "metadata": {},
     "output_type": "execute_result"
    }
   ],
   "source": [
    "df_xsec.groupby(\"Group\").agg(\n",
    "    {\n",
    "        \"ID\": [\"count\"],\n",
    "        \"Age\": [\"mean\", \"std\", \"min\", \"max\" ],\n",
    "        \"EYO\": [\"mean\", \"std\", \"min\", \"max\" ],\n",
    "        \"TIV\": [\"mean\", \"std\", \"min\", \"max\" ]\n",
    "    }\n",
    ").style.format(precision=1)"
   ]
  },
  {
   "cell_type": "markdown",
   "id": "46332f88-143d-4adc-a586-d72cfe1cf5d0",
   "metadata": {},
   "source": [
    "Some things to note from this table:\n",
    "* The symptomatic carriers are much older than the presymptomatic, and they are expected to be past onset.\n",
    "* The non-carriers are pretty much the same age and EYO, which is to be expected when you have an autosomal dominant mutation\n",
    "* The TIV across all groups is pretty much the same.\n",
    "\n",
    "One more thing to check, the breakdown of sex between groups."
   ]
  },
  {
   "cell_type": "code",
   "execution_count": 6,
   "id": "a311cdff-b2dd-4a24-afda-8002801dfc5c",
   "metadata": {},
   "outputs": [
    {
     "data": {
      "text/html": [
       "<style type=\"text/css\">\n",
       "</style>\n",
       "<table id=\"T_98cd1_\">\n",
       "  <thead>\n",
       "    <tr>\n",
       "      <th class=\"index_name level0\" >Sex</th>\n",
       "      <th class=\"col_heading level0 col0\" >Female</th>\n",
       "      <th class=\"col_heading level0 col1\" >Male</th>\n",
       "    </tr>\n",
       "    <tr>\n",
       "      <th class=\"index_name level0\" >Group</th>\n",
       "      <th class=\"blank col0\" >&nbsp;</th>\n",
       "      <th class=\"blank col1\" >&nbsp;</th>\n",
       "    </tr>\n",
       "  </thead>\n",
       "  <tbody>\n",
       "    <tr>\n",
       "      <th id=\"T_98cd1_level0_row0\" class=\"row_heading level0 row0\" >Non-carrier</th>\n",
       "      <td id=\"T_98cd1_row0_col0\" class=\"data row0 col0\" >0.574</td>\n",
       "      <td id=\"T_98cd1_row0_col1\" class=\"data row0 col1\" >0.426</td>\n",
       "    </tr>\n",
       "    <tr>\n",
       "      <th id=\"T_98cd1_level0_row1\" class=\"row_heading level0 row1\" >Presymptomatic</th>\n",
       "      <td id=\"T_98cd1_row1_col0\" class=\"data row1 col0\" >0.632</td>\n",
       "      <td id=\"T_98cd1_row1_col1\" class=\"data row1 col1\" >0.368</td>\n",
       "    </tr>\n",
       "    <tr>\n",
       "      <th id=\"T_98cd1_level0_row2\" class=\"row_heading level0 row2\" >Symptomatic</th>\n",
       "      <td id=\"T_98cd1_row2_col0\" class=\"data row2 col0\" >0.430</td>\n",
       "      <td id=\"T_98cd1_row2_col1\" class=\"data row2 col1\" >0.570</td>\n",
       "    </tr>\n",
       "  </tbody>\n",
       "</table>\n"
      ],
      "text/plain": [
       "<pandas.io.formats.style.Styler at 0x7f86fbce0dd0>"
      ]
     },
     "execution_count": 6,
     "metadata": {},
     "output_type": "execute_result"
    }
   ],
   "source": [
    "pd.crosstab(df_xsec[\"Group\"],df_xsec[\"Sex\"],normalize='index').style.format(precision=3)"
   ]
  },
  {
   "cell_type": "markdown",
   "id": "a285ebec-113b-446a-9231-e52adef17ae2",
   "metadata": {},
   "source": [
    "The non-carrier and presymptomatic carriers have pretty much the same proportion of females and males, while the symptomaitc group have more males \n",
    "(Note: test not performed!)"
   ]
  },
  {
   "cell_type": "markdown",
   "id": "a7b4684d-9cb7-4239-b6ed-9fe42fecd4c0",
   "metadata": {},
   "source": [
    "### Simple regression no sites\n",
    "The first analysis we will do is a very simple linear regression where site is **not** accounted for. We will, however, include  sex, age, and TIV as covariates to deteminre what differences there are between groups when adjusting for these variables. "
   ]
  },
  {
   "cell_type": "code",
   "execution_count": 7,
   "id": "edbb3834-561c-4534-b3be-145671227fd8",
   "metadata": {},
   "outputs": [],
   "source": [
    "import statsmodels.api as stats\n",
    "import statsmodels.formula.api as statsfx"
   ]
  },
  {
   "cell_type": "markdown",
   "id": "7bd61b05-8cca-49e7-8dfa-9de8387f594e",
   "metadata": {},
   "source": [
    "If you are familiar with R, the regression equations in statsmodels are setup in a similar fashion. So the first model will take into account age, sex, and TIV but *not* site. We will center age and TIV so that the resulting intercept from the regression is more interpetable.\n",
    "This regression corresponds to the following formula:  \n",
    "$y_i  = \\beta_0 + \\beta_1x_{i,Age} + \\beta_2x_{i,Male} + \\beta_3x_{i,TIV} + \\epsilon_i$"
   ]
  },
  {
   "cell_type": "code",
   "execution_count": 8,
   "id": "45691c7d-0899-407b-9df9-65a48c17f825",
   "metadata": {},
   "outputs": [
    {
     "name": "stdout",
     "output_type": "stream",
     "text": [
      "                            OLS Regression Results                            \n",
      "==============================================================================\n",
      "Dep. Variable:          Insula_volume   R-squared:                       0.711\n",
      "Model:                            OLS   Adj. R-squared:                  0.709\n",
      "Method:                 Least Squares   F-statistic:                     303.5\n",
      "Date:                Wed, 15 Sep 2021   Prob (F-statistic):          1.72e-163\n",
      "Time:                        10:31:31   Log-Likelihood:                -5109.0\n",
      "No. Observations:                 622   AIC:                         1.023e+04\n",
      "Df Residuals:                     616   BIC:                         1.026e+04\n",
      "Df Model:                           5                                         \n",
      "Covariance Type:            nonrobust                                         \n",
      "===========================================================================================\n",
      "                              coef    std err          t      P>|t|      [0.025      0.975]\n",
      "-------------------------------------------------------------------------------------------\n",
      "Intercept                1.073e+04     69.720    153.853      0.000    1.06e+04    1.09e+04\n",
      "Group[T.Presymptomatic]  -223.4410     79.535     -2.809      0.005    -379.635     -67.247\n",
      "Group[T.Symptomatic]    -2147.2374    114.987    -18.674      0.000   -2373.052   -1921.423\n",
      "Sex[T.Male]              -100.2846     95.156     -1.054      0.292    -287.154      86.584\n",
      "Age_centered              -40.6126      2.975    -13.652      0.000     -46.455     -34.770\n",
      "TIV_centered                6.1774      0.326     18.977      0.000       5.538       6.817\n",
      "==============================================================================\n",
      "Omnibus:                        3.180   Durbin-Watson:                   2.069\n",
      "Prob(Omnibus):                  0.204   Jarque-Bera (JB):                3.453\n",
      "Skew:                           0.055   Prob(JB):                        0.178\n",
      "Kurtosis:                       3.348   Cond. No.                         501.\n",
      "==============================================================================\n",
      "\n",
      "Notes:\n",
      "[1] Standard Errors assume that the covariance matrix of the errors is correctly specified.\n"
     ]
    }
   ],
   "source": [
    "df_xsec=df_xsec.dropna(subset=[\"Group\",\"Age\",\"Sex\",\"TIV\"])\n",
    "df_xsec[\"Age_centered\"]=df_xsec['Age']-df_xsec['Age'].mean()\n",
    "df_xsec[\"TIV_centered\"]=df_xsec['TIV']-df_xsec['TIV'].mean()\n",
    "results= statsfx.ols('Insula_volume ~ Group + Age_centered + Sex + TIV_centered',data=df_xsec).fit()\n",
    "print(results.summary())"
   ]
  },
  {
   "cell_type": "markdown",
   "id": "75123170-aa05-4bf3-95ae-2f141c32e24f",
   "metadata": {},
   "source": [
    "### Interpretation\n",
    "Let's look at the results from the regression output:\n",
    "* The average Insular volume for a female non-carrier of average age (~48 years in this cohort) and average TIV(1420 ml) is 10730mm$^3$. \n",
    "* Female presymptomatic carriers of the same mean age and TIV have 233mm$^3$ less volume than the non-carriers, which is statistically significant\n",
    "* Female symptomatic carriers of the same mean age and TIV have 2147mm$^3$ less volume, which is statistically significant. \n",
    "* While there is no significant evidence of any volume difference between males and females, there are clear age and TIV-related differences with every 1000mm$^3$(or 1ml) of TIV resulting in an insula that is 6mm$^3$ bigger, and for every year  of ageing, there is a loss of 41mm$^3$.\n",
    "\n",
    "Before we go on, let's take a look and see if we can spot differences by site, even though it is not yet in the model. To do that, we will plot the residuals  from the regression based on the lienar regression, and group them by site.\n"
   ]
  },
  {
   "cell_type": "code",
   "execution_count": null,
   "id": "83b1d6d5-f55c-4a26-adbe-49e9bcb1f450",
   "metadata": {},
   "outputs": [],
   "source": [
    "# Get residuals from model\n",
    "df_xsec['residuals'] = results.resid\n",
    "\n",
    "# Get mean of residuals by site\n",
    "site_resid = df_xsec.groupby('Site').mean()['residuals']\n",
    "\n",
    "#sort the residuals from smallest to biggest\n",
    "site_rank = site_resid.rank().astype('int')\n",
    "\n",
    "df_xsec.boxplot('residuals',by=['Site'],positions=site_rank.values.tolist(),\n",
    "                showmeans=True,figsize=(12,6))\n",
    "df_nc=df_xsec.query('Group ==\"Non-carrier\"')\n",
    "df_nc.boxplot('residuals',by=['Site'],positions=site_rank.values.tolist(),\n",
    "                showmeans=True,figsize=(12,6))\n",
    "df_pmc=df_xsec.query('Group ==\"Presymptomatic\"')\n",
    "df_pmc.boxplot('residuals',by=['Site'],positions=site_rank.values.tolist(),\n",
    "                showmeans=True,figsize=(12,6))\n",
    "df_smc=df_xsec.query('Group ==\"Symptomatic\"')\n",
    "df_smc.boxplot('residuals',by=['Site'],positions=site_rank.values.tolist(),\n",
    "                showmeans=True,figsize=(12,6))"
   ]
  },
  {
   "cell_type": "markdown",
   "id": "c571157c-aba0-46a4-aacd-d1fb898929ea",
   "metadata": {},
   "source": [
    "In general, we can see that the predicted values not only have different mean values (green triangles), but different amounts of variability as well. There are also some sites that have very low samples, making the abiity to identify their influence on the insual volume difficult to determine.\n",
    "\n",
    "## Adding site as a covariate\n",
    "Are there differences in site or scanner that are occuring in this data? A common approach has been to include a mutl-level factor variable for site or scanner intot he lineear regression. Let's run the same analysis again including the site variable as a covariate. The regression now changes to:  \n",
    "$y_i  = \\beta_0 + \\beta_1x_{i,Age} + \\beta_2x_{i,Male} + \\beta_3x_{i,TIV} + \\beta_4x_{i,Site_1} + \\beta5x_{i,Site_2} + \\ldots + \\beta_{n+3}x_{i,Site_n} + \\epsilon_i$"
   ]
  },
  {
   "cell_type": "code",
   "execution_count": null,
   "id": "e2e94d92-73bc-45e7-9d2d-ff2df0990c69",
   "metadata": {},
   "outputs": [],
   "source": [
    "# Perform the regression\n",
    "site_results= statsfx.ols('Insula_volume ~ Group + Age_centered + Sex + TIV_centered + Site',data=df_xsec).fit()\n",
    "# Print the output summary table\n",
    "print(site_results.summary())"
   ]
  },
  {
   "cell_type": "code",
   "execution_count": null,
   "id": "289027a1-f1f6-4bad-a27d-08e96d97fc90",
   "metadata": {},
   "outputs": [],
   "source": [
    "# Show the ANOVA test for the different covariates\n",
    "table=stats.stats.anova_lm(site_results, typ=2)\n",
    "print(table)\n",
    "# Show a likelihood ratio test comparing this with the base model above (no Site covariate)\n",
    "lr_test=site_results.compare_lr_test(results)\n",
    "print('P-value for likelihood ratio test with original mode: ', np.format_float_positional(lr_test[1],precision=6))"
   ]
  },
  {
   "cell_type": "markdown",
   "id": "fdc3cbfb-f17b-48d8-a7fd-bc0c1f668222",
   "metadata": {
    "tags": []
   },
   "source": [
    "### Interpretation\n",
    "Overall the estimates change only slightly:\n",
    "* The change in the presymptomatic carriers is down from 223 to 208, but still signficiantly different.\n",
    "* The change in the symptomatic carriers is down from 2147 to 2087, but still signficiantly different.\n",
    "* Age is slightly greater per year, while TIV is unchanged and Sex is still not significant.\n",
    "* There are a couple of sites: Site 3,5,8 that are significantly different than site 0. Notice that Site 0 is all Siemens 3T, while 3 is Philips 3T, 5 is GE 3T, and 8 is a mix of Siemens 1.5T and Skyra 3T - so different scanners.\n",
    "* The *ANOVA* test aon site and the likelihood ratio test between this model and the nested model suggest that site is adding information to the model and that here are statistically significant evidece that the site means are not equal. \n",
    "However, as you can see from the model output that all is not well. Some of this may arise due to the small sample size in some of the factors making ti difficult to get a reliabl estimate for these sites. \n",
    "\n",
    "## Scanner\n",
    "It could be that this the difference is primarily which scanner was used, not which site it was acquired in.  In fact some sites have used more than one scanner. Soo we could run this again with scanner as the factor variabke rather than site. The primary scanner that the protocol was developed on was a Siemens Trio 3T, so let's use that as our baseline level to see how the other scanners compare."
   ]
  },
  {
   "cell_type": "code",
   "execution_count": null,
   "id": "e76e84ef-4773-437d-b2c5-562c7cd16813",
   "metadata": {},
   "outputs": [],
   "source": [
    "df_xsec['Scanner_cat'] = pd.Categorical(df_xsec['Scanner'],\n",
    "                                        categories=['Siemens Trio 3T',\n",
    "                                                    'Siemens Prisma 3T',\n",
    "                                                    'Siemens Skyra 3T',\n",
    "                                                    'Siemens 1.5T',\n",
    "                                                    'Philips 3T',\n",
    "                                                    'GE 1.5T',\n",
    "                                                    'GE 3T'])\n",
    "# Perform the new regression model\n",
    "scanner_results= statsfx.ols('Insula_volume ~ Group + Age_centered + Sex + TIV_centered + Scanner_cat',data=df_xsec).fit()\n",
    "# Print the output summary table\n",
    "print(scanner_results.summary())"
   ]
  },
  {
   "cell_type": "code",
   "execution_count": null,
   "id": "54e36f84-1688-4202-875b-725b72d00785",
   "metadata": {},
   "outputs": [],
   "source": [
    "# Show the ANOVA test for the different covariates\n",
    "table=stats.stats.anova_lm(scanner_results, typ=2)\n",
    "print(table)\n",
    "# Show a likelihood ratio test comparing this with the base model above (no Site covariate)\n",
    "lr_test=scanner_results.compare_lr_test(results)\n",
    "print('P-value for likelihood ratio test with original mode: ', np.format_float_positional(lr_test[1],precision=6))"
   ]
  },
  {
   "cell_type": "markdown",
   "id": "d28d5b84-611e-46a6-b0b2-9adb6a0fdd66",
   "metadata": {},
   "source": [
    "### Interpretation\n",
    "The model fits are overall pretty similar:\n",
    "* The change in the presymptomatic carriers is down from 223 to 189.\n",
    "* The change in the symptomatic carriers is down from 2147 to 2128\n",
    "* Age and TIV are virtually unchanged.\n",
    "* Except for GE 1.5T and Siemens Prisma 3T, there are many pairwise tests that show signficantly different means between scanners and the reference scanner. \n",
    "* Despite clear pairwise differences, the *ANOVA* test on site and the likelihood ratio test between this model and the nested model suggest that scanner is adding some information though perhapd not as much information a site is providing. \n",
    "\n",
    "### CAVEATS!\n",
    "Notce the warning message that comes up in both regression equations when site or scanner is included. Given the large imbalance, small sample size, and potential heteroskedasticity between levels of this value, this is probably not an ideal, or even appropriate way to deal with the multi-site data. So where now?\n",
    "\n",
    "### Try your own!\n",
    "Now that you have seen how to do the simple regression methods above. Try them with another one of the volumes. I'll put the names below so that you can choose one have have a go."
   ]
  },
  {
   "cell_type": "code",
   "execution_count": null,
   "id": "1b435c82-4b5b-4590-8f5c-b1c2a52eb1e8",
   "metadata": {},
   "outputs": [],
   "source": [
    "list(df_xsec.columns)[10:45]"
   ]
  },
  {
   "cell_type": "markdown",
   "id": "3e3eac5e-f593-4b69-a62a-4a3a526f64bc",
   "metadata": {},
   "source": [
    "And in the empty cell below, you can try various regressions using any of the regression models mentioend."
   ]
  },
  {
   "cell_type": "code",
   "execution_count": null,
   "id": "75142bfd-7784-44ee-8c63-bb5f787be4ab",
   "metadata": {},
   "outputs": [],
   "source": []
  },
  {
   "cell_type": "markdown",
   "id": "854244d2-0546-40e8-a30d-01e58d3b84c3",
   "metadata": {},
   "source": [
    "## ComBat approach for batch adjustment\n",
    "A more recent, advanced approach to handle multi-site data is the ComBat method, originally proposed for genomic analysis and now applied quite often to imaging analyses. ComBat has a lot of advantages, as it was designed to help both with the additive bias **AND** the multiplicative bias (heteroskedasticity). In addition, it has far better suited to handle uneven data between sitesa dn samll sample sizes for those sites. So let's take a look at This is really helpful, but what if there are difference in standard error between sites, and how can we trust those small sample size in some cells. ComBat provides \"harmonised\" values out of the analyses that have accounted for the batch variable (here site) so that you can perform your analysis on them. There are many implementations of ComBat around for R and for Python. I am using [neuroCombat](https://github.com/Jfortin1/neuroCombat) for Python, but there is also other implementations/extensions, such as [neuroHarmonize](https://github.com/rpomponio/neuroHarmonize).\n",
    "\n",
    "ComBat prefers lots of different features, so unlike the simple linear regression example, we will include lots of different volumes here, from the right accumbens (column 10) to the Insula volume (column 32)"
   ]
  },
  {
   "cell_type": "code",
   "execution_count": null,
   "id": "cb5da443-8217-4972-b223-ad25f4bf56c6",
   "metadata": {},
   "outputs": [],
   "source": [
    "from neuroCombat import neuroCombat\n",
    "covars=df_xsec.filter([\"Age_centered\",\"TIV_centered\"])\n",
    "covars[\"Group\"]=df_xsec['Group'].cat.codes\n",
    "covars[\"Sex\"]=df_xsec['Sex'].cat.codes\n",
    "covars[\"Site\"]=df_xsec['Site'].cat.codes\n",
    "covars=covars[[\"Group\",\"Age_centered\",\"Sex\",\"TIV_centered\",\"Site\"]]\n",
    "categorical_cols=[\"Group\",\"Sex\"]\n",
    "batch_col=\"Site\"\n",
    "data=df_xsec.iloc[:,10:33].to_numpy(copy=True).transpose()\n",
    "data_combat = neuroCombat(dat=data,\n",
    "    covars=covars,\n",
    "    batch_col=batch_col,\n",
    "    categorical_cols=categorical_cols)\n"
   ]
  },
  {
   "cell_type": "markdown",
   "id": "77e23e53-c96b-4477-a2ce-f95e624ef9f8",
   "metadata": {},
   "source": [
    "So now we have harmonised data, let's run again the results to see what infomration we now get for these volumes. First I'll grab the harmoinsed insula volume and add it to the data frame."
   ]
  },
  {
   "cell_type": "code",
   "execution_count": null,
   "id": "275380ee-66c8-422a-b5b7-210982504510",
   "metadata": {},
   "outputs": [],
   "source": [
    "df_xsec['Harmonised_Insula'] = data_combat[\"data\"][22,:].transpose()"
   ]
  },
  {
   "cell_type": "markdown",
   "id": "68109d26-3374-4622-adcb-56fa3738a618",
   "metadata": {},
   "source": [
    "Then I'll perform a similar regression again, this time with no site variable (as it should be harmonised by ComBat!)"
   ]
  },
  {
   "cell_type": "code",
   "execution_count": null,
   "id": "d815cbf1-a0ae-4499-9fe1-9eaf76f76f99",
   "metadata": {},
   "outputs": [],
   "source": [
    "# Perform linear regression on harmonised values.\n",
    "harmonised_results= statsfx.ols('Harmonised_Insula ~ Group + Age_centered + Sex + TIV_centered',data=df_xsec).fit()\n",
    "#Print Summary of regression.\n",
    "print(harmonised_results.summary())"
   ]
  },
  {
   "cell_type": "markdown",
   "id": "91d36c43-f291-4bda-a09e-984cb0ad9af0",
   "metadata": {},
   "source": [
    "### Interpretation\n",
    "If anything, the models are a touch stronger:\n",
    "* The intercept has gone slightly down from 10730mm$^3$ to 10650mm$^3$. \n",
    "* The presympotomatic carrier effect has stayed the same, but the standard error is a little lower, resulting in a slight increase in the t-statistic.\n",
    "* The symptomatic carrier effect also remains the same, again with slightly less standard errro. \n",
    "* Sex remains non-significant, while Age and TIV have similar effects. \n",
    "\n",
    "What happens if we were to include Site as a covariate now?"
   ]
  },
  {
   "cell_type": "code",
   "execution_count": null,
   "id": "c0dec2dc-c808-4ec4-91e9-ec9a8773fcd8",
   "metadata": {},
   "outputs": [],
   "source": [
    "harmonised_site_results= statsfx.ols('Harmonised_Insula ~ Group + Age_centered + Sex + TIV_centered + Site',data=df_xsec).fit()\n",
    "print(harmonised_site_results.summary())"
   ]
  },
  {
   "cell_type": "code",
   "execution_count": null,
   "id": "b83432dd-3130-4e15-a7ba-563d08ac12ea",
   "metadata": {},
   "outputs": [],
   "source": [
    "#ANOVA test\n",
    "table=stats.stats.anova_lm(harmonised_site_results, typ=2)\n",
    "print(table)\n",
    "# Show a likelihood ratio test comparing this with the base model above (no Site covariate)\n",
    "lr_test=harmonised_site_results.compare_lr_test(harmonised_results)\n",
    "print('P-value for likelihood ratio test with original mode: ', np.format_float_positional(lr_test[1],precision=6))"
   ]
  },
  {
   "cell_type": "markdown",
   "id": "f11de025-7b88-443e-a08b-d30b98309868",
   "metadata": {},
   "source": [
    "Notice now that there is **NOT** statsitcal evidence in the *ANOVA* test, nor in the likelihood ratio test. With harmonised values, site no longer adds to the data, as would be expected. Below are the residuals plotted agian, the left being the original plot and the right being residuals from the harmoinsed regression. Notices how the residuals are far more centered around zero."
   ]
  },
  {
   "cell_type": "code",
   "execution_count": null,
   "id": "536e59d0-409c-4bc4-b0f3-395c77e0cf40",
   "metadata": {},
   "outputs": [],
   "source": [
    "df_xsec['harmonised_residuals']=harmonised_results.resid\n",
    "df_xsec.boxplot(['residuals','harmonised_residuals'],by=['Site'],positions=site_rank,figsize=(12,6))"
   ]
  },
  {
   "cell_type": "markdown",
   "id": "3e072ea2-1538-4399-becf-56f35e93634c",
   "metadata": {},
   "source": [
    "### Try your own\n",
    "Now that you can see how neuroCombat runs, grab one of the harmonised columns (perhaps one of the variables you tried in the regression above, and run the same regression with the haronised verion. Are the results similar to the insula?"
   ]
  },
  {
   "cell_type": "code",
   "execution_count": null,
   "id": "72355384-8d87-4c2c-8c32-92c1a5925003",
   "metadata": {},
   "outputs": [],
   "source": []
  },
  {
   "cell_type": "markdown",
   "id": "1f7bf053-5396-4f6b-8836-ad52d97b0314",
   "metadata": {},
   "source": [
    "### Summary\n",
    "Hopefully, this demonstration showed the effects of site on statistical analysis and how ComBat is a worthwhile appproach to pursue when you need to correct for these batch effects."
   ]
  },
  {
   "cell_type": "code",
   "execution_count": null,
   "id": "48fdd5e5-6328-4927-9f32-470df7360932",
   "metadata": {},
   "outputs": [],
   "source": []
  }
 ],
 "metadata": {
  "kernelspec": {
   "display_name": "Python 3 (ipykernel)",
   "language": "python",
   "name": "python3"
  },
  "language_info": {
   "codemirror_mode": {
    "name": "ipython",
    "version": 3
   },
   "file_extension": ".py",
   "mimetype": "text/x-python",
   "name": "python",
   "nbconvert_exporter": "python",
   "pygments_lexer": "ipython3",
   "version": "3.7.10"
  }
 },
 "nbformat": 4,
 "nbformat_minor": 5
}
