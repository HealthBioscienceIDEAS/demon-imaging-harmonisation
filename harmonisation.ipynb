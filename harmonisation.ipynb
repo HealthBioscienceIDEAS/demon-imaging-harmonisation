{
 "cells": [
  {
   "cell_type": "markdown",
   "id": "38eb51df-e0dd-41b4-93fe-30720b54a859",
   "metadata": {},
   "source": [
    "# Harmonisation strategies\n",
    "## Author: David M Cash\n",
    "## Principal Research Fellow, Dementia Research Centre, UCL Queen Square Institute of Neurology\n",
    "\n",
    "## Introduction\n",
    "This notebook was made as part of the **Health and Bioscience IDEAS** training programme, funded by the [UKRI Innovation Scholars](https://www.ukri.org/opportunity/innovation-scholars-data-science-training-in-health-bioscience/) Data Science Training in Health and Bioscience. Please visit [our website](https://healthbioscienceideas.github.io/) for more information.\n",
    "\n",
    "This notebook will give a brief example of how to correct, or harmonize for site-related differences in image biomarkers. This problem is cropping up more and more often as we need multi-site data to have large enough sample sizes for many research applications, particularly for those that are based on machine learning and need a large enough training set to produce an accurate model. For more background on this, please see the [accompanying documenation](https://healthbioscienceideas.github.io/demon-imaging-harmonisation/). \n"
   ]
  },
  {
   "cell_type": "code",
   "execution_count": 1,
   "id": "97a0a551-c646-4d87-8786-7726d75efde1",
   "metadata": {},
   "outputs": [],
   "source": [
    "import os\n",
    "import nest_asyncio\n",
    "nest_asyncio.apply()\n",
    "import numpy as np\n",
    "import pandas as pd\n",
    "import datalad.api as dl"
   ]
  },
  {
   "cell_type": "markdown",
   "id": "a43bb069-590b-44ad-b26a-c6ef1a63c30e",
   "metadata": {},
   "source": [
    "As in the previous notebook, we will grab the data for the lesson using datalad. This time we will ne using a spreadsheet that has  all the imgaging volumes for the study and read it into memory. This data is a limited dataset from [GENFI](https://www.genfi.org/) a multi-site study of genetic frontotemporal dementia."
   ]
  },
  {
   "cell_type": "code",
   "execution_count": 5,
   "id": "73cd931a-36bd-4051-b688-6eaf2659afce",
   "metadata": {},
   "outputs": [
    {
     "name": "stderr",
     "output_type": "stream",
     "text": [
      "[INFO] Fetching updates for Dataset(/tmp/sample) \n"
     ]
    },
    {
     "name": "stdout",
     "output_type": "stream",
     "text": [
      ".: demons-data(?) [git]\n"
     ]
    }
   ],
   "source": [
    "dl_source='https://github.com/HealthBioscienceIDEAS/demon-imaging-data.git'\n",
    "sample=dl.clone(dl_source,path='/tmp/sample',description='Cloned sample dataset for import')\n",
    "sample.update(merge=True)\n",
    "sample.siblings(action='enable',name='demons-data')\n",
    "in_file=sample.get('./GENFI_DEMON_SPREADSHEET.xlsx')"
   ]
  },
  {
   "cell_type": "markdown",
   "id": "ecab119a-6338-41c4-881b-2a5fbee29308",
   "metadata": {},
   "source": [
    "For the pusporses of some of the regression methods, I am making some of the variables categorical in nature. "
   ]
  },
  {
   "cell_type": "code",
   "execution_count": 6,
   "id": "2b5d5148-2ef3-4fc8-924f-52bee498c2e9",
   "metadata": {},
   "outputs": [],
   "source": [
    "df_xsec=pd.read_excel(in_file[0]['path'])\n",
    "df_xsec['Sex']=pd.Categorical(df_xsec['Sex'],categories=[0,1])\n",
    "df_xsec['Sex']=df_xsec['Sex'].cat.rename_categories(['Female','Male'])\n",
    "df_xsec['Site'] = pd.Categorical(df_xsec['Site'],categories=np.arange(23))\n",
    "df_xsec['Group']=pd.Categorical(df_xsec['Group'],categories=[0,1,2])\n",
    "df_xsec['Group']=df_xsec['Group'].cat.rename_categories(['Non-carrier','Presymptomatic','Symptomatic'])"
   ]
  },
  {
   "cell_type": "markdown",
   "id": "2f6d39cf-fa46-4359-95db-2d87db2661fd",
   "metadata": {},
   "source": [
    "Next I will produce a quick crosstab to show the number of individuals scanned at each site and with each scanner. Here are some of the key points for this table:\n",
    "* Some sites have a lot more data than others. The largest site has 143 individuals while the smallest has 2.\n",
    "* Out of the 22 sites, there are only 7 scanner models being used.\n",
    "* Some sites have switched scanners midway through the study (See Site 8)."
   ]
  },
  {
   "cell_type": "code",
   "execution_count": 7,
   "id": "ca77bd75-e571-4921-b950-4603c4519919",
   "metadata": {},
   "outputs": [
    {
     "data": {
      "text/html": [
       "<div>\n",
       "<style scoped>\n",
       "    .dataframe tbody tr th:only-of-type {\n",
       "        vertical-align: middle;\n",
       "    }\n",
       "\n",
       "    .dataframe tbody tr th {\n",
       "        vertical-align: top;\n",
       "    }\n",
       "\n",
       "    .dataframe thead th {\n",
       "        text-align: right;\n",
       "    }\n",
       "</style>\n",
       "<table border=\"1\" class=\"dataframe\">\n",
       "  <thead>\n",
       "    <tr style=\"text-align: right;\">\n",
       "      <th>Scanner</th>\n",
       "      <th>GE 1.5T</th>\n",
       "      <th>GE 3T</th>\n",
       "      <th>Philips 3T</th>\n",
       "      <th>Siemens 1.5T</th>\n",
       "      <th>Siemens Prisma 3T</th>\n",
       "      <th>Siemens Skyra 3T</th>\n",
       "      <th>Siemens Trio 3T</th>\n",
       "    </tr>\n",
       "    <tr>\n",
       "      <th>Site</th>\n",
       "      <th></th>\n",
       "      <th></th>\n",
       "      <th></th>\n",
       "      <th></th>\n",
       "      <th></th>\n",
       "      <th></th>\n",
       "      <th></th>\n",
       "    </tr>\n",
       "  </thead>\n",
       "  <tbody>\n",
       "    <tr>\n",
       "      <th>0</th>\n",
       "      <td>0</td>\n",
       "      <td>0</td>\n",
       "      <td>0</td>\n",
       "      <td>0</td>\n",
       "      <td>0</td>\n",
       "      <td>8</td>\n",
       "      <td>20</td>\n",
       "    </tr>\n",
       "    <tr>\n",
       "      <th>1</th>\n",
       "      <td>0</td>\n",
       "      <td>0</td>\n",
       "      <td>45</td>\n",
       "      <td>0</td>\n",
       "      <td>0</td>\n",
       "      <td>0</td>\n",
       "      <td>0</td>\n",
       "    </tr>\n",
       "    <tr>\n",
       "      <th>2</th>\n",
       "      <td>0</td>\n",
       "      <td>0</td>\n",
       "      <td>0</td>\n",
       "      <td>0</td>\n",
       "      <td>3</td>\n",
       "      <td>0</td>\n",
       "      <td>0</td>\n",
       "    </tr>\n",
       "    <tr>\n",
       "      <th>3</th>\n",
       "      <td>0</td>\n",
       "      <td>0</td>\n",
       "      <td>143</td>\n",
       "      <td>0</td>\n",
       "      <td>0</td>\n",
       "      <td>0</td>\n",
       "      <td>0</td>\n",
       "    </tr>\n",
       "    <tr>\n",
       "      <th>4</th>\n",
       "      <td>0</td>\n",
       "      <td>0</td>\n",
       "      <td>3</td>\n",
       "      <td>0</td>\n",
       "      <td>0</td>\n",
       "      <td>0</td>\n",
       "      <td>0</td>\n",
       "    </tr>\n",
       "    <tr>\n",
       "      <th>5</th>\n",
       "      <td>0</td>\n",
       "      <td>25</td>\n",
       "      <td>0</td>\n",
       "      <td>0</td>\n",
       "      <td>6</td>\n",
       "      <td>0</td>\n",
       "      <td>0</td>\n",
       "    </tr>\n",
       "    <tr>\n",
       "      <th>6</th>\n",
       "      <td>0</td>\n",
       "      <td>0</td>\n",
       "      <td>18</td>\n",
       "      <td>0</td>\n",
       "      <td>0</td>\n",
       "      <td>0</td>\n",
       "      <td>0</td>\n",
       "    </tr>\n",
       "    <tr>\n",
       "      <th>7</th>\n",
       "      <td>0</td>\n",
       "      <td>0</td>\n",
       "      <td>0</td>\n",
       "      <td>0</td>\n",
       "      <td>10</td>\n",
       "      <td>0</td>\n",
       "      <td>12</td>\n",
       "    </tr>\n",
       "    <tr>\n",
       "      <th>8</th>\n",
       "      <td>0</td>\n",
       "      <td>0</td>\n",
       "      <td>0</td>\n",
       "      <td>33</td>\n",
       "      <td>0</td>\n",
       "      <td>36</td>\n",
       "      <td>0</td>\n",
       "    </tr>\n",
       "    <tr>\n",
       "      <th>9</th>\n",
       "      <td>8</td>\n",
       "      <td>0</td>\n",
       "      <td>1</td>\n",
       "      <td>0</td>\n",
       "      <td>0</td>\n",
       "      <td>0</td>\n",
       "      <td>0</td>\n",
       "    </tr>\n",
       "    <tr>\n",
       "      <th>10</th>\n",
       "      <td>0</td>\n",
       "      <td>0</td>\n",
       "      <td>0</td>\n",
       "      <td>5</td>\n",
       "      <td>0</td>\n",
       "      <td>0</td>\n",
       "      <td>0</td>\n",
       "    </tr>\n",
       "    <tr>\n",
       "      <th>11</th>\n",
       "      <td>0</td>\n",
       "      <td>0</td>\n",
       "      <td>0</td>\n",
       "      <td>0</td>\n",
       "      <td>0</td>\n",
       "      <td>0</td>\n",
       "      <td>35</td>\n",
       "    </tr>\n",
       "    <tr>\n",
       "      <th>12</th>\n",
       "      <td>0</td>\n",
       "      <td>0</td>\n",
       "      <td>0</td>\n",
       "      <td>0</td>\n",
       "      <td>0</td>\n",
       "      <td>23</td>\n",
       "      <td>0</td>\n",
       "    </tr>\n",
       "    <tr>\n",
       "      <th>13</th>\n",
       "      <td>0</td>\n",
       "      <td>0</td>\n",
       "      <td>0</td>\n",
       "      <td>0</td>\n",
       "      <td>0</td>\n",
       "      <td>0</td>\n",
       "      <td>30</td>\n",
       "    </tr>\n",
       "    <tr>\n",
       "      <th>14</th>\n",
       "      <td>0</td>\n",
       "      <td>0</td>\n",
       "      <td>0</td>\n",
       "      <td>0</td>\n",
       "      <td>2</td>\n",
       "      <td>0</td>\n",
       "      <td>0</td>\n",
       "    </tr>\n",
       "    <tr>\n",
       "      <th>15</th>\n",
       "      <td>0</td>\n",
       "      <td>0</td>\n",
       "      <td>0</td>\n",
       "      <td>0</td>\n",
       "      <td>0</td>\n",
       "      <td>10</td>\n",
       "      <td>0</td>\n",
       "    </tr>\n",
       "    <tr>\n",
       "      <th>16</th>\n",
       "      <td>0</td>\n",
       "      <td>0</td>\n",
       "      <td>0</td>\n",
       "      <td>0</td>\n",
       "      <td>0</td>\n",
       "      <td>0</td>\n",
       "      <td>28</td>\n",
       "    </tr>\n",
       "    <tr>\n",
       "      <th>17</th>\n",
       "      <td>0</td>\n",
       "      <td>0</td>\n",
       "      <td>29</td>\n",
       "      <td>0</td>\n",
       "      <td>0</td>\n",
       "      <td>0</td>\n",
       "      <td>0</td>\n",
       "    </tr>\n",
       "    <tr>\n",
       "      <th>18</th>\n",
       "      <td>0</td>\n",
       "      <td>0</td>\n",
       "      <td>0</td>\n",
       "      <td>0</td>\n",
       "      <td>0</td>\n",
       "      <td>0</td>\n",
       "      <td>14</td>\n",
       "    </tr>\n",
       "    <tr>\n",
       "      <th>19</th>\n",
       "      <td>0</td>\n",
       "      <td>0</td>\n",
       "      <td>0</td>\n",
       "      <td>0</td>\n",
       "      <td>0</td>\n",
       "      <td>0</td>\n",
       "      <td>8</td>\n",
       "    </tr>\n",
       "    <tr>\n",
       "      <th>20</th>\n",
       "      <td>0</td>\n",
       "      <td>0</td>\n",
       "      <td>0</td>\n",
       "      <td>0</td>\n",
       "      <td>0</td>\n",
       "      <td>0</td>\n",
       "      <td>16</td>\n",
       "    </tr>\n",
       "    <tr>\n",
       "      <th>21</th>\n",
       "      <td>0</td>\n",
       "      <td>0</td>\n",
       "      <td>0</td>\n",
       "      <td>0</td>\n",
       "      <td>14</td>\n",
       "      <td>0</td>\n",
       "      <td>37</td>\n",
       "    </tr>\n",
       "    <tr>\n",
       "      <th>22</th>\n",
       "      <td>0</td>\n",
       "      <td>2</td>\n",
       "      <td>0</td>\n",
       "      <td>0</td>\n",
       "      <td>0</td>\n",
       "      <td>0</td>\n",
       "      <td>0</td>\n",
       "    </tr>\n",
       "  </tbody>\n",
       "</table>\n",
       "</div>"
      ],
      "text/plain": [
       "Scanner  GE 1.5T  GE 3T  Philips 3T  Siemens 1.5T  Siemens Prisma 3T  \\\n",
       "Site                                                                   \n",
       "0              0      0           0             0                  0   \n",
       "1              0      0          45             0                  0   \n",
       "2              0      0           0             0                  3   \n",
       "3              0      0         143             0                  0   \n",
       "4              0      0           3             0                  0   \n",
       "5              0     25           0             0                  6   \n",
       "6              0      0          18             0                  0   \n",
       "7              0      0           0             0                 10   \n",
       "8              0      0           0            33                  0   \n",
       "9              8      0           1             0                  0   \n",
       "10             0      0           0             5                  0   \n",
       "11             0      0           0             0                  0   \n",
       "12             0      0           0             0                  0   \n",
       "13             0      0           0             0                  0   \n",
       "14             0      0           0             0                  2   \n",
       "15             0      0           0             0                  0   \n",
       "16             0      0           0             0                  0   \n",
       "17             0      0          29             0                  0   \n",
       "18             0      0           0             0                  0   \n",
       "19             0      0           0             0                  0   \n",
       "20             0      0           0             0                  0   \n",
       "21             0      0           0             0                 14   \n",
       "22             0      2           0             0                  0   \n",
       "\n",
       "Scanner  Siemens Skyra 3T  Siemens Trio 3T  \n",
       "Site                                        \n",
       "0                       8               20  \n",
       "1                       0                0  \n",
       "2                       0                0  \n",
       "3                       0                0  \n",
       "4                       0                0  \n",
       "5                       0                0  \n",
       "6                       0                0  \n",
       "7                       0               12  \n",
       "8                      36                0  \n",
       "9                       0                0  \n",
       "10                      0                0  \n",
       "11                      0               35  \n",
       "12                     23                0  \n",
       "13                      0               30  \n",
       "14                      0                0  \n",
       "15                     10                0  \n",
       "16                      0               28  \n",
       "17                      0                0  \n",
       "18                      0               14  \n",
       "19                      0                8  \n",
       "20                      0               16  \n",
       "21                      0               37  \n",
       "22                      0                0  "
      ]
     },
     "execution_count": 7,
     "metadata": {},
     "output_type": "execute_result"
    }
   ],
   "source": [
    "pd.crosstab(df_xsec['Site'],df_xsec['Scanner'])"
   ]
  },
  {
   "cell_type": "markdown",
   "id": "6bd85953-073f-4d3f-9626-2c08c31f5808",
   "metadata": {},
   "source": [
    "## Analysis\n",
    "The participants in the dataset fall into thre main clinical classifications (variable name **Group**). We want to examine what the between-group differences are for the volume of the insula, a key brain structure known to be affected early in frontotemporal dementia. But we do any statstical analysis, let;s get a few summary statistics, including the sample size and mean(standard deviation), min and max of three variables: \n",
    "* Age,\n",
    "* EYO - Estimated Years to symptom onset, and \n",
    "* TIV - total intracranial volume (TIV), a variable often used as a proxy for head size. Unlike other volumes in this spreadsheet, TIV is in ml not mm$^3$ (1ml=1000mm$^3$)"
   ]
  },
  {
   "cell_type": "code",
   "execution_count": 15,
   "id": "1067e4cf-ac4a-4573-8f5a-1f1df3a9d042",
   "metadata": {},
   "outputs": [
    {
     "data": {
      "text/html": [
       "<style type=\"text/css\">\n",
       "</style>\n",
       "<table id=\"T_7a4f1_\">\n",
       "  <thead>\n",
       "    <tr>\n",
       "      <th class=\"blank level0\" >&nbsp;</th>\n",
       "      <th class=\"col_heading level0 col0\" >ID</th>\n",
       "      <th class=\"col_heading level0 col1\" colspan=\"4\">Age</th>\n",
       "      <th class=\"col_heading level0 col5\" colspan=\"4\">EYO</th>\n",
       "      <th class=\"col_heading level0 col9\" colspan=\"4\">TIV</th>\n",
       "    </tr>\n",
       "    <tr>\n",
       "      <th class=\"blank level1\" >&nbsp;</th>\n",
       "      <th class=\"col_heading level1 col0\" >count</th>\n",
       "      <th class=\"col_heading level1 col1\" >mean</th>\n",
       "      <th class=\"col_heading level1 col2\" >std</th>\n",
       "      <th class=\"col_heading level1 col3\" >min</th>\n",
       "      <th class=\"col_heading level1 col4\" >max</th>\n",
       "      <th class=\"col_heading level1 col5\" >mean</th>\n",
       "      <th class=\"col_heading level1 col6\" >std</th>\n",
       "      <th class=\"col_heading level1 col7\" >min</th>\n",
       "      <th class=\"col_heading level1 col8\" >max</th>\n",
       "      <th class=\"col_heading level1 col9\" >mean</th>\n",
       "      <th class=\"col_heading level1 col10\" >std</th>\n",
       "      <th class=\"col_heading level1 col11\" >min</th>\n",
       "      <th class=\"col_heading level1 col12\" >max</th>\n",
       "    </tr>\n",
       "    <tr>\n",
       "      <th class=\"index_name level0\" >Group</th>\n",
       "      <th class=\"blank col0\" >&nbsp;</th>\n",
       "      <th class=\"blank col1\" >&nbsp;</th>\n",
       "      <th class=\"blank col2\" >&nbsp;</th>\n",
       "      <th class=\"blank col3\" >&nbsp;</th>\n",
       "      <th class=\"blank col4\" >&nbsp;</th>\n",
       "      <th class=\"blank col5\" >&nbsp;</th>\n",
       "      <th class=\"blank col6\" >&nbsp;</th>\n",
       "      <th class=\"blank col7\" >&nbsp;</th>\n",
       "      <th class=\"blank col8\" >&nbsp;</th>\n",
       "      <th class=\"blank col9\" >&nbsp;</th>\n",
       "      <th class=\"blank col10\" >&nbsp;</th>\n",
       "      <th class=\"blank col11\" >&nbsp;</th>\n",
       "      <th class=\"blank col12\" >&nbsp;</th>\n",
       "    </tr>\n",
       "  </thead>\n",
       "  <tbody>\n",
       "    <tr>\n",
       "      <th id=\"T_7a4f1_level0_row0\" class=\"row_heading level0 row0\" >Non-carrier</th>\n",
       "      <td id=\"T_7a4f1_row0_col0\" class=\"data row0 col0\" >251</td>\n",
       "      <td id=\"T_7a4f1_row0_col1\" class=\"data row0 col1\" >47.0</td>\n",
       "      <td id=\"T_7a4f1_row0_col2\" class=\"data row0 col2\" >13.7</td>\n",
       "      <td id=\"T_7a4f1_row0_col3\" class=\"data row0 col3\" >18.6</td>\n",
       "      <td id=\"T_7a4f1_row0_col4\" class=\"data row0 col4\" >85.7</td>\n",
       "      <td id=\"T_7a4f1_row0_col5\" class=\"data row0 col5\" >-12.8</td>\n",
       "      <td id=\"T_7a4f1_row0_col6\" class=\"data row0 col6\" >14.3</td>\n",
       "      <td id=\"T_7a4f1_row0_col7\" class=\"data row0 col7\" >-50.0</td>\n",
       "      <td id=\"T_7a4f1_row0_col8\" class=\"data row0 col8\" >27.6</td>\n",
       "      <td id=\"T_7a4f1_row0_col9\" class=\"data row0 col9\" >1420.5</td>\n",
       "      <td id=\"T_7a4f1_row0_col10\" class=\"data row0 col10\" >142.5</td>\n",
       "      <td id=\"T_7a4f1_row0_col11\" class=\"data row0 col11\" >1100.7</td>\n",
       "      <td id=\"T_7a4f1_row0_col12\" class=\"data row0 col12\" >2051.7</td>\n",
       "    </tr>\n",
       "    <tr>\n",
       "      <th id=\"T_7a4f1_level0_row1\" class=\"row_heading level0 row1\" >Presymptomatic</th>\n",
       "      <td id=\"T_7a4f1_row1_col0\" class=\"data row1 col0\" >266</td>\n",
       "      <td id=\"T_7a4f1_row1_col1\" class=\"data row1 col1\" >44.8</td>\n",
       "      <td id=\"T_7a4f1_row1_col2\" class=\"data row1 col2\" >11.9</td>\n",
       "      <td id=\"T_7a4f1_row1_col3\" class=\"data row1 col3\" >20.1</td>\n",
       "      <td id=\"T_7a4f1_row1_col4\" class=\"data row1 col4\" >75.5</td>\n",
       "      <td id=\"T_7a4f1_row1_col5\" class=\"data row1 col5\" >-13.8</td>\n",
       "      <td id=\"T_7a4f1_row1_col6\" class=\"data row1 col6\" >11.5</td>\n",
       "      <td id=\"T_7a4f1_row1_col7\" class=\"data row1 col7\" >-47.4</td>\n",
       "      <td id=\"T_7a4f1_row1_col8\" class=\"data row1 col8\" >15.7</td>\n",
       "      <td id=\"T_7a4f1_row1_col9\" class=\"data row1 col9\" >1412.2</td>\n",
       "      <td id=\"T_7a4f1_row1_col10\" class=\"data row1 col10\" >137.7</td>\n",
       "      <td id=\"T_7a4f1_row1_col11\" class=\"data row1 col11\" >1074.7</td>\n",
       "      <td id=\"T_7a4f1_row1_col12\" class=\"data row1 col12\" >1811.5</td>\n",
       "    </tr>\n",
       "    <tr>\n",
       "      <th id=\"T_7a4f1_level0_row2\" class=\"row_heading level0 row2\" >Symptomatic</th>\n",
       "      <td id=\"T_7a4f1_row2_col0\" class=\"data row2 col0\" >107</td>\n",
       "      <td id=\"T_7a4f1_row2_col1\" class=\"data row2 col1\" >63.0</td>\n",
       "      <td id=\"T_7a4f1_row2_col2\" class=\"data row2 col2\" >8.2</td>\n",
       "      <td id=\"T_7a4f1_row2_col3\" class=\"data row2 col3\" >32.9</td>\n",
       "      <td id=\"T_7a4f1_row2_col4\" class=\"data row2 col4\" >78.7</td>\n",
       "      <td id=\"T_7a4f1_row2_col5\" class=\"data row2 col5\" >3.4</td>\n",
       "      <td id=\"T_7a4f1_row2_col6\" class=\"data row2 col6\" >6.9</td>\n",
       "      <td id=\"T_7a4f1_row2_col7\" class=\"data row2 col7\" >-26.1</td>\n",
       "      <td id=\"T_7a4f1_row2_col8\" class=\"data row2 col8\" >21.7</td>\n",
       "      <td id=\"T_7a4f1_row2_col9\" class=\"data row2 col9\" >1442.3</td>\n",
       "      <td id=\"T_7a4f1_row2_col10\" class=\"data row2 col10\" >157.8</td>\n",
       "      <td id=\"T_7a4f1_row2_col11\" class=\"data row2 col11\" >1129.5</td>\n",
       "      <td id=\"T_7a4f1_row2_col12\" class=\"data row2 col12\" >1848.9</td>\n",
       "    </tr>\n",
       "  </tbody>\n",
       "</table>\n"
      ],
      "text/plain": [
       "<pandas.io.formats.style.Styler at 0x7fabff337bd0>"
      ]
     },
     "execution_count": 15,
     "metadata": {},
     "output_type": "execute_result"
    }
   ],
   "source": [
    "df_xsec.groupby(\"Group\").agg(\n",
    "    {\n",
    "        \"ID\": [\"count\"],\n",
    "        \"Age\": [\"mean\", \"std\", \"min\", \"max\" ],\n",
    "        \"EYO\": [\"mean\", \"std\", \"min\", \"max\" ],\n",
    "        \"TIV\": [\"mean\", \"std\", \"min\", \"max\" ]\n",
    "    }\n",
    ").style.format(precision=1)"
   ]
  },
  {
   "cell_type": "markdown",
   "id": "46332f88-143d-4adc-a586-d72cfe1cf5d0",
   "metadata": {},
   "source": [
    "Some things to note from this table:\n",
    "* The symptomatic carriers are much older than the presymptomatic, and they are expected to be past onset.\n",
    "* The non-carriers are pretty much the same age and EYO, which is to be expected when you have an autosomal dominant mutation\n",
    "* The TIV across all groups is pretty much the same.\n",
    "\n",
    "One more thing to check, the breakdown of sex between groups."
   ]
  },
  {
   "cell_type": "code",
   "execution_count": 19,
   "id": "a311cdff-b2dd-4a24-afda-8002801dfc5c",
   "metadata": {},
   "outputs": [
    {
     "data": {
      "text/html": [
       "<style type=\"text/css\">\n",
       "</style>\n",
       "<table id=\"T_eb7aa_\">\n",
       "  <thead>\n",
       "    <tr>\n",
       "      <th class=\"index_name level0\" >Sex</th>\n",
       "      <th class=\"col_heading level0 col0\" >Female</th>\n",
       "      <th class=\"col_heading level0 col1\" >Male</th>\n",
       "    </tr>\n",
       "    <tr>\n",
       "      <th class=\"index_name level0\" >Group</th>\n",
       "      <th class=\"blank col0\" >&nbsp;</th>\n",
       "      <th class=\"blank col1\" >&nbsp;</th>\n",
       "    </tr>\n",
       "  </thead>\n",
       "  <tbody>\n",
       "    <tr>\n",
       "      <th id=\"T_eb7aa_level0_row0\" class=\"row_heading level0 row0\" >Non-carrier</th>\n",
       "      <td id=\"T_eb7aa_row0_col0\" class=\"data row0 col0\" >0.574</td>\n",
       "      <td id=\"T_eb7aa_row0_col1\" class=\"data row0 col1\" >0.426</td>\n",
       "    </tr>\n",
       "    <tr>\n",
       "      <th id=\"T_eb7aa_level0_row1\" class=\"row_heading level0 row1\" >Presymptomatic</th>\n",
       "      <td id=\"T_eb7aa_row1_col0\" class=\"data row1 col0\" >0.632</td>\n",
       "      <td id=\"T_eb7aa_row1_col1\" class=\"data row1 col1\" >0.368</td>\n",
       "    </tr>\n",
       "    <tr>\n",
       "      <th id=\"T_eb7aa_level0_row2\" class=\"row_heading level0 row2\" >Symptomatic</th>\n",
       "      <td id=\"T_eb7aa_row2_col0\" class=\"data row2 col0\" >0.430</td>\n",
       "      <td id=\"T_eb7aa_row2_col1\" class=\"data row2 col1\" >0.570</td>\n",
       "    </tr>\n",
       "  </tbody>\n",
       "</table>\n"
      ],
      "text/plain": [
       "<pandas.io.formats.style.Styler at 0x7fabffafcf90>"
      ]
     },
     "execution_count": 19,
     "metadata": {},
     "output_type": "execute_result"
    }
   ],
   "source": [
    "pd.crosstab(df_xsec[\"Group\"],df_xsec[\"Sex\"],normalize='index').style.format(precision=3)"
   ]
  },
  {
   "cell_type": "markdown",
   "id": "a285ebec-113b-446a-9231-e52adef17ae2",
   "metadata": {},
   "source": [
    "The non-carrier and presymptomatic carriers have pretty much the same proportion of females and males, while the symptomaitc group have more males \n",
    "(Note: test not performed!)"
   ]
  },
  {
   "cell_type": "markdown",
   "id": "a7b4684d-9cb7-4239-b6ed-9fe42fecd4c0",
   "metadata": {},
   "source": [
    "### Simple regression no sites\n",
    "The first analysis we will do is a very simple linear regression where site is **not** accounted for. We will, however, include  sex, age, and TIV as covariates to deteminre what differences there are between groups when adjusting for these variables. "
   ]
  },
  {
   "cell_type": "code",
   "execution_count": 21,
   "id": "edbb3834-561c-4534-b3be-145671227fd8",
   "metadata": {},
   "outputs": [],
   "source": [
    "import statsmodels.api as stats\n",
    "import statsmodels.formula.api as statsfx"
   ]
  },
  {
   "cell_type": "markdown",
   "id": "7bd61b05-8cca-49e7-8dfa-9de8387f594e",
   "metadata": {},
   "source": [
    "If you are familiar with R, the regression equations in statsmodels are setup in a similar fashion. So the first model will take into account age, sex, and TIV but *not* site. We will center age and TIV so that the resulting intercept from the regression is more interpetable.\n",
    "This regression corresponds to the following formula:  \n",
    "$y_i  = \\beta_0 + \\beta_1x_{i,Age} + \\beta_2x_{i,Male} + \\beta_3x_{i,TIV} + \\epsilon_i$"
   ]
  },
  {
   "cell_type": "code",
   "execution_count": 22,
   "id": "45691c7d-0899-407b-9df9-65a48c17f825",
   "metadata": {},
   "outputs": [
    {
     "name": "stdout",
     "output_type": "stream",
     "text": [
      "                            OLS Regression Results                            \n",
      "==============================================================================\n",
      "Dep. Variable:          Insula_volume   R-squared:                       0.711\n",
      "Model:                            OLS   Adj. R-squared:                  0.709\n",
      "Method:                 Least Squares   F-statistic:                     303.5\n",
      "Date:                Tue, 14 Sep 2021   Prob (F-statistic):          1.72e-163\n",
      "Time:                        10:20:49   Log-Likelihood:                -5109.0\n",
      "No. Observations:                 622   AIC:                         1.023e+04\n",
      "Df Residuals:                     616   BIC:                         1.026e+04\n",
      "Df Model:                           5                                         \n",
      "Covariance Type:            nonrobust                                         \n",
      "===========================================================================================\n",
      "                              coef    std err          t      P>|t|      [0.025      0.975]\n",
      "-------------------------------------------------------------------------------------------\n",
      "Intercept                1.073e+04     69.720    153.853      0.000    1.06e+04    1.09e+04\n",
      "Group[T.Presymptomatic]  -223.4410     79.535     -2.809      0.005    -379.635     -67.247\n",
      "Group[T.Symptomatic]    -2147.2374    114.987    -18.674      0.000   -2373.052   -1921.423\n",
      "Sex[T.Male]              -100.2846     95.156     -1.054      0.292    -287.154      86.584\n",
      "Age_centered              -40.6126      2.975    -13.652      0.000     -46.455     -34.770\n",
      "TIV_centered                6.1774      0.326     18.977      0.000       5.538       6.817\n",
      "==============================================================================\n",
      "Omnibus:                        3.180   Durbin-Watson:                   2.069\n",
      "Prob(Omnibus):                  0.204   Jarque-Bera (JB):                3.453\n",
      "Skew:                           0.055   Prob(JB):                        0.178\n",
      "Kurtosis:                       3.348   Cond. No.                         501.\n",
      "==============================================================================\n",
      "\n",
      "Notes:\n",
      "[1] Standard Errors assume that the covariance matrix of the errors is correctly specified.\n"
     ]
    }
   ],
   "source": [
    "df_xsec=df_xsec.dropna(subset=[\"Group\",\"Age\",\"Sex\",\"TIV\"])\n",
    "df_xsec[\"Age_centered\"]=df_xsec['Age']-df_xsec['Age'].mean()\n",
    "df_xsec[\"TIV_centered\"]=df_xsec['TIV']-df_xsec['TIV'].mean()\n",
    "results= statsfx.ols('Insula_volume ~ Group + Age_centered + Sex + TIV_centered',data=df_xsec).fit()\n",
    "print(results.summary())"
   ]
  },
  {
   "cell_type": "markdown",
   "id": "75123170-aa05-4bf3-95ae-2f141c32e24f",
   "metadata": {},
   "source": [
    "### Interpretation\n",
    "Let's look at the results from the regression output:\n",
    "* The average Insular volume for a female non-carrier of average age (~48 years in this cohort) and average TIV(1420 ml) is 10730mm$^3$. \n",
    "* Female presymptomatic carriers of the same mean age and TIV have 233mm$^3$ less volume than the non-carriers, which is statistically significant\n",
    "* Female symptomatic carriers of the same mean age and TIV have 2147mm$^3$ less volume, which is statistically significant. \n",
    "* While there is no significant evidence of any volume difference between males and females, there are clear age and TIV-related differences with every 1000mm$^3$(or 1ml) of TIV resulting in an insula that is 6mm$^3$ bigger, and for every year  of ageing, there is a loss of 41mm$^3$.\n",
    "\n",
    "Before we go on, let's take a look and see if we can spot differences by site, even though it is not yet in the model. To do that, we will plot the predicted insular volumes based on the lienar regression, and group them by site.\n"
   ]
  },
  {
   "cell_type": "code",
   "execution_count": 26,
   "id": "83b1d6d5-f55c-4a26-adbe-49e9bcb1f450",
   "metadata": {},
   "outputs": [
    {
     "data": {
      "text/plain": [
       "<AxesSubplot:title={'center':'predicted'}, xlabel='[Site]'>"
      ]
     },
     "execution_count": 26,
     "metadata": {},
     "output_type": "execute_result"
    },
    {
     "data": {
      "image/png": "[encoded data removed]",
      "text/plain": [
       "<Figure size 864x432 with 1 Axes>"
      ]
     },
     "metadata": {
      "needs_background": "light"
     },
     "output_type": "display_data"
    },
    {
     "data": {
      "image/png": "[encoded data removed]",
      "text/plain": [
       "<Figure size 864x432 with 1 Axes>"
      ]
     },
     "metadata": {
      "needs_background": "light"
     },
     "output_type": "display_data"
    },
    {
     "data": {
      "image/png": "[encoded data removed]",
      "text/plain": [
       "<Figure size 864x432 with 1 Axes>"
      ]
     },
     "metadata": {
      "needs_background": "light"
     },
     "output_type": "display_data"
    },
    {
     "data": {
      "image/png": "[encoded data removed]",
      "text/plain": [
       "<Figure size 864x432 with 1 Axes>"
      ]
     },
     "metadata": {
      "needs_background": "light"
     },
     "output_type": "display_data"
    }
   ],
   "source": [
    "df_xsec['predicted'] = results.predict()\n",
    "df_xsec.boxplot('predicted',by=['Site'],showmeans=True,figsize=(12,6))\n",
    "df_nc=df_xsec.query('Group ==\"Non-carrier\"')\n",
    "df_nc.boxplot('predicted',by=['Site'],showmeans=True,figsize=(12,6))\n",
    "df_pmc=df_xsec.query('Group ==\"Presymptomatic\"')\n",
    "df_pmc.boxplot('predicted',by=['Site'],showmeans=True,figsize=(12,6))\n",
    "df_smc=df_xsec.query('Group ==\"Symptomatic\"')\n",
    "df_smc.boxplot('predicted',by=['Site'],showmeans=True,figsize=(12,6))"
   ]
  },
  {
   "cell_type": "markdown",
   "id": "c571157c-aba0-46a4-aacd-d1fb898929ea",
   "metadata": {},
   "source": [
    "In general, we can see that the predicted values not only have different mean values (green triangles), but different amounts of variability as well. There are also some sites that have very low samples, making the abiity to identify their influence on the insual volume difficult to determine.\n",
    "\n",
    "## Adding site as a covariate\n",
    "Are there differences in site or scanner that are occuring in this data? A common approach has been to include a mutl-level factor variable for site or scanner intot he lineear regression. Let's run the same analysis again including the site variable as a covariate. The regression now changes to:  \n",
    "$y_i  = \\beta_0 + \\beta_1x_{i,Age} + \\beta_2x_{i,Male} + \\beta_3x_{i,TIV} + \\beta_4x_{i,Site_1} + \\beta5x_{i,Site_2} + \\ldots + \\beta_{n+3}x_{i,Site_n} + \\epsilon_i$"
   ]
  },
  {
   "cell_type": "code",
   "execution_count": 29,
   "id": "e2e94d92-73bc-45e7-9d2d-ff2df0990c69",
   "metadata": {},
   "outputs": [
    {
     "name": "stdout",
     "output_type": "stream",
     "text": [
      "                            OLS Regression Results                            \n",
      "==============================================================================\n",
      "Dep. Variable:          Insula_volume   R-squared:                       0.735\n",
      "Model:                            OLS   Adj. R-squared:                  0.723\n",
      "Method:                 Least Squares   F-statistic:                     60.98\n",
      "Date:                Tue, 14 Sep 2021   Prob (F-statistic):          7.83e-152\n",
      "Time:                        10:32:06   Log-Likelihood:                -5082.4\n",
      "No. Observations:                 622   AIC:                         1.022e+04\n",
      "Df Residuals:                     594   BIC:                         1.034e+04\n",
      "Df Model:                          27                                         \n",
      "Covariance Type:            nonrobust                                         \n",
      "===========================================================================================\n",
      "                              coef    std err          t      P>|t|      [0.025      0.975]\n",
      "-------------------------------------------------------------------------------------------\n",
      "Intercept                1.048e+04    172.995     60.567      0.000    1.01e+04    1.08e+04\n",
      "Group[T.Presymptomatic]  -208.0321     80.166     -2.595      0.010    -365.474     -50.590\n",
      "Group[T.Symptomatic]    -2087.4370    121.256    -17.215      0.000   -2325.580   -1849.294\n",
      "Sex[T.Male]               -34.5149     96.020     -0.359      0.719    -223.094     154.065\n",
      "Site[T.1]                  42.0834    214.168      0.196      0.844    -378.535     462.702\n",
      "Site[T.2]               -1001.8766    540.543     -1.853      0.064   -2063.485      59.732\n",
      "Site[T.3]                 454.6773    181.805      2.501      0.013      97.619     811.736\n",
      "Site[T.4]                -276.9404    537.996     -0.515      0.607   -1333.547     779.666\n",
      "Site[T.5]                 487.7199    228.648      2.133      0.033      38.663     936.777\n",
      "Site[T.6]                -101.7685    265.837     -0.383      0.702    -623.864     420.327\n",
      "Site[T.7]                 -81.1538    251.227     -0.323      0.747    -574.555     412.248\n",
      "Site[T.8]                 440.9549    197.413      2.234      0.026      53.242     828.668\n",
      "Site[T.9]                 118.4128    337.504      0.351      0.726    -544.433     781.258\n",
      "Site[T.10]               -149.5372    428.969     -0.349      0.728    -992.017     692.943\n",
      "Site[T.11]                 -4.9556    224.564     -0.022      0.982    -445.991     436.080\n",
      "Site[T.12]                103.0354    247.887      0.416      0.678    -383.806     589.877\n",
      "Site[T.13]                -77.0725    231.093     -0.334      0.739    -530.930     376.785\n",
      "Site[T.14]               -120.4176    644.080     -0.187      0.852   -1385.368    1144.533\n",
      "Site[T.15]                474.2159    328.344      1.444      0.149    -170.641    1119.072\n",
      "Site[T.16]                323.6102    234.840      1.378      0.169    -137.607     784.827\n",
      "Site[T.17]                -11.3815    234.886     -0.048      0.961    -472.690     449.927\n",
      "Site[T.18]                123.5196    287.921      0.429      0.668    -441.947     688.986\n",
      "Site[T.19]               -153.5217    354.105     -0.434      0.665    -848.973     541.929\n",
      "Site[T.20]               -414.4678    275.323     -1.505      0.133    -955.193     126.257\n",
      "Site[T.21]                266.3800    211.427      1.260      0.208    -148.856     681.616\n",
      "Site[T.22]                685.1319    644.369      1.063      0.288    -580.386    1950.650\n",
      "Age_centered              -42.3772      3.013    -14.063      0.000     -48.296     -36.459\n",
      "TIV_centered                5.9091      0.331     17.869      0.000       5.260       6.559\n",
      "==============================================================================\n",
      "Omnibus:                        6.683   Durbin-Watson:                   2.077\n",
      "Prob(Omnibus):                  0.035   Jarque-Bera (JB):                9.430\n",
      "Skew:                          -0.015   Prob(JB):                      0.00896\n",
      "Kurtosis:                       3.602   Cond. No.                     3.55e+03\n",
      "==============================================================================\n",
      "\n",
      "Notes:\n",
      "[1] Standard Errors assume that the covariance matrix of the errors is correctly specified.\n",
      "[2] The condition number is large, 3.55e+03. This might indicate that there are\n",
      "strong multicollinearity or other numerical problems.\n"
     ]
    }
   ],
   "source": [
    "# Perform the regression\n",
    "site_results= statsfx.ols('Insula_volume ~ Group + Age_centered + Sex + TIV_centered + Site',data=df_xsec).fit()\n",
    "# Print the output summary table\n",
    "print(site_results.summary())"
   ]
  },
  {
   "cell_type": "markdown",
   "id": "fdc3cbfb-f17b-48d8-a7fd-bc0c1f668222",
   "metadata": {
    "tags": []
   },
   "source": [
    "### Interpretation\n",
    "Overall the estimates change only slightly:\n",
    "* The change in the presymptomatic carriers is down from 223 to 208.\n",
    "* The change in the symptomatic carriers is down from 2147 to 2087\n",
    "* Age is slightly greater per year, while TIV is unchanged and Sex is still not significant.\n",
    "* There are a couple of sites: Site 3,5,8 that are significantly different than site 0. Notice that Site 0 is all Siemens 3T, while 3 is Philips 3T, 5 is GE 3T, and 8 is a mix of Siemens 1.5T and Skyra 3T - so different scanners.\n",
    "* The *ANOVA* test aon site and the likelihood ratio test between this model and the nested model suggest that site is adding information to the model and that here are statistically significant evidece that the site means are not equal. \n",
    "However, as you can see from the model output that all is not well. Some of this may arise due to the small sample size in some of the factors making ti difficult to get a reliabl estimate for these sites. \n",
    "\n",
    "## Scanner\n",
    "It could be that this the difference is primarily which scanner was used, not which site it was acquired in.  In fact some sites have used more than one scanner. Soo we could run this again with scanner as the factor variabke rather than site. The primary scanner that the protocol was developed on was a Siemens Trio 3T, so let's use that as our baseline level to see how the other scanners compare."
   ]
  },
  {
   "cell_type": "markdown",
   "id": "a2171806-17c6-490e-abb0-306579048fd1",
   "metadata": {},
   "source": [
    "### Interpretation\n",
    "The model fits are overall pretty similar:\n",
    "* The change in the presymptomatic carriers is down from 223 to 208, but still signficiantly different.\n",
    "* The change in the symptomatic carriers is down from 2147 to 2087, but still signficiantly different.\n",
    "* Age is slightly greater per year, while TIV is unchanged and Sex is still not significant.\n",
    "* There are a couple of sites: Site 3,5,8 that are significantly different than site 0. Notice that Site 0 is all Siemens 3T, while 3 is Philips 3T, 5 is GE 3T, and 8 is a mix of Siemens 1.5T and Skyra 3T - so different scanners.\n",
    "* The *ANOVA* test on site and the likelihood ratio test between this model and the nested model suggest that the site variable is adding some information to the model. \n",
    "\n",
    "### Scanner\n",
    "It could be that this is just a scanner difference rather than what site the data was acquired, and some sites have used more than one scanner. Let's try the model again with scanner only. The primary scanner that the protocol was developed on was a Siemens Trio 3T, so let's use that as our baseline value to see how the other scanners compare."
   ]
  },
  {
   "cell_type": "code",
   "execution_count": 32,
   "id": "e76e84ef-4773-437d-b2c5-562c7cd16813",
   "metadata": {},
   "outputs": [
    {
     "name": "stdout",
     "output_type": "stream",
     "text": [
      "                            OLS Regression Results                            \n",
      "==============================================================================\n",
      "Dep. Variable:          Insula_volume   R-squared:                       0.720\n",
      "Model:                            OLS   Adj. R-squared:                  0.714\n",
      "Method:                 Least Squares   F-statistic:                     142.3\n",
      "Date:                Tue, 14 Sep 2021   Prob (F-statistic):          2.74e-160\n",
      "Time:                        10:38:16   Log-Likelihood:                -5099.9\n",
      "No. Observations:                 622   AIC:                         1.022e+04\n",
      "Df Residuals:                     610   BIC:                         1.028e+04\n",
      "Df Model:                          11                                         \n",
      "Covariance Type:            nonrobust                                         \n",
      "====================================================================================================\n",
      "                                       coef    std err          t      P>|t|      [0.025      0.975]\n",
      "----------------------------------------------------------------------------------------------------\n",
      "Intercept                         1.052e+04     88.537    118.765      0.000    1.03e+04    1.07e+04\n",
      "Group[T.Presymptomatic]           -189.0995     79.426     -2.381      0.018    -345.082     -33.118\n",
      "Group[T.Symptomatic]             -2128.9319    115.693    -18.401      0.000   -2356.138   -1901.726\n",
      "Sex[T.Male]                       -107.3022     94.362     -1.137      0.256    -292.617      78.013\n",
      "Scanner_cat[T.Siemens Prisma 3T]   238.3442    165.187      1.443      0.150     -86.061     562.749\n",
      "Scanner_cat[T.Siemens Skyra 3T]    275.0279    120.288      2.286      0.023      38.799     511.257\n",
      "Scanner_cat[T.Siemens 1.5T]        399.0020    158.110      2.524      0.012      88.496     709.508\n",
      "Scanner_cat[T.Philips 3T]          260.1799     85.880      3.030      0.003      91.524     428.836\n",
      "Scanner_cat[T.GE 1.5T]              78.5875    322.025      0.244      0.807    -553.824     710.999\n",
      "Scanner_cat[T.GE 3T]               559.7416    183.171      3.056      0.002     200.020     919.463\n",
      "Age_centered                       -40.4023      2.971    -13.599      0.000     -46.237     -34.568\n",
      "TIV_centered                         6.2072      0.325     19.116      0.000       5.570       6.845\n",
      "==============================================================================\n",
      "Omnibus:                        5.728   Durbin-Watson:                   2.069\n",
      "Prob(Omnibus):                  0.057   Jarque-Bera (JB):                7.440\n",
      "Skew:                           0.056   Prob(JB):                       0.0242\n",
      "Kurtosis:                       3.524   Cond. No.                     1.30e+03\n",
      "==============================================================================\n",
      "\n",
      "Notes:\n",
      "[1] Standard Errors assume that the covariance matrix of the errors is correctly specified.\n",
      "[2] The condition number is large, 1.3e+03. This might indicate that there are\n",
      "strong multicollinearity or other numerical problems.\n"
     ]
    }
   ],
   "source": [
    "df_xsec['Scanner_cat'] = pd.Categorical(df_xsec['Scanner'],\n",
    "                                        categories=['Siemens Trio 3T',\n",
    "                                                    'Siemens Prisma 3T',\n",
    "                                                    'Siemens Skyra 3T',\n",
    "                                                    'Siemens 1.5T',\n",
    "                                                    'Philips 3T',\n",
    "                                                    'GE 1.5T',\n",
    "                                                    'GE 3T'])\n",
    "# Perform the new regression model\n",
    "scanner_results= statsfx.ols('Insula_volume ~ Group + Age_centered + Sex + TIV_centered + Scanner_cat',data=df_xsec).fit()\n",
    "# Print the output summary table\n",
    "print(scanner_results.summary())"
   ]
  },
  {
   "cell_type": "code",
   "execution_count": 33,
   "id": "54e36f84-1688-4202-875b-725b72d00785",
   "metadata": {},
   "outputs": [
    {
     "name": "stdout",
     "output_type": "stream",
     "text": [
      "                    sum_sq     df           F        PR(>F)\n",
      "Group         2.764545e+08    2.0  174.928557  8.965825e-61\n",
      "Sex           1.021766e+06    1.0    1.293059  2.559314e-01\n",
      "Scanner_cat   1.425592e+07    6.0    3.006845  6.651333e-03\n",
      "Age_centered  1.461264e+08    1.0  184.925123  5.617640e-37\n",
      "TIV_centered  2.887483e+08    1.0  365.415138  3.498862e-64\n",
      "Residual      4.820174e+08  610.0         NaN           NaN\n",
      "P-value for likelihood ratio test with original mode:  0.005917\n"
     ]
    }
   ],
   "source": [
    "# Show the ANOVA test for the different covariates\n",
    "table=stats.stats.anova_lm(scanner_results, typ=2)\n",
    "print(table)\n",
    "# Show a likelihood ratio test comparing this with the base model above (no Site covariate)\n",
    "lr_test=scanner_results.compare_lr_test(results)\n",
    "print('P-value for likelihood ratio test with original mode: ', np.format_float_positional(lr_test[1],precision=6))"
   ]
  },
  {
   "cell_type": "markdown",
   "id": "d28d5b84-611e-46a6-b0b2-9adb6a0fdd66",
   "metadata": {},
   "source": [
    "### Interpretation\n",
    "The model fits are overall pretty similar:\n",
    "* The change in the presymptomatic carriers is down from 223 to 189.\n",
    "* The change in the symptomatic carriers is down from 2147 to 2128\n",
    "* Age and TIV are virtually unchanged.\n",
    "* Except for GE 1.5T and Siemens Prisma 3T, there are many pairwise tests that show signficantly different means between scanners and the reference scanner. \n",
    "* Despite clear pairwise differences, the *ANOVA* test on site and the likelihood ratio test between this model and the nested model suggest that scanner is adding some information though perhapd not as much information a site is providing. \n",
    "\n",
    "### CAVEATS!\n",
    "Notce the warning message that comes up in both regression equations when site or scanner is included. Given the large imbalance, small sample size, and potential heteroskedasticity between levels of this value, this is probably not an ideal, or even appropriate way to deal with the multi-site data. So where now?\n",
    "\n",
    "### Try your own!\n",
    "Now that you have seen how to do the simple regression methods above. Try them with another one of the volumes. I'll put the names below so that you can choose one have have a go."
   ]
  },
  {
   "cell_type": "code",
   "execution_count": 46,
   "id": "1b435c82-4b5b-4590-8f5c-b1c2a52eb1e8",
   "metadata": {},
   "outputs": [
    {
     "data": {
      "text/plain": [
       "['Right_Accumbens_Area',\n",
       " 'Left_Accumbens_Area',\n",
       " 'Right_Amygdala',\n",
       " 'Left_Amygdala',\n",
       " 'Pons',\n",
       " 'Brain_Stem',\n",
       " 'Right_Caudate',\n",
       " 'Left_Caudate',\n",
       " 'Right_Hippocampus',\n",
       " 'Left_Hippocampus',\n",
       " 'Right_Pallidum',\n",
       " 'Left_Pallidum',\n",
       " 'Right_Putamen',\n",
       " 'Left_Putamen',\n",
       " 'Right_Thalamus_Proper',\n",
       " 'Left_Thalamus_Proper',\n",
       " 'Total_Brain',\n",
       " 'Frontal_lobe_volume',\n",
       " 'Temporal_lobe_volume',\n",
       " 'Parietal_lobe_volume',\n",
       " 'Occipital_lobe_volume',\n",
       " 'Cingulate_volume',\n",
       " 'Insula_volume',\n",
       " 'Left_Frontal_lobe_volume',\n",
       " 'Right_Frontal_lobe_volume',\n",
       " 'Left_Temporal_lobe_volume',\n",
       " 'Right_Temporal_lobe_volume',\n",
       " 'Left_Parietal_lobe_volume',\n",
       " 'Right_Parietal_lobe_volume',\n",
       " 'Left_Occipital_lobe_volume',\n",
       " 'Right_Occipital_lobe_volume',\n",
       " 'Left_Cingulate_volume',\n",
       " 'Right_Cingulate_volume',\n",
       " 'Left_Insula_volume',\n",
       " 'Right_Insula_volume']"
      ]
     },
     "execution_count": 46,
     "metadata": {},
     "output_type": "execute_result"
    }
   ],
   "source": [
    "list(df_xsec.columns)[10:45]"
   ]
  },
  {
   "cell_type": "markdown",
   "id": "3e3eac5e-f593-4b69-a62a-4a3a526f64bc",
   "metadata": {},
   "source": [
    "And in the empty cell below, you can try various regressions using any of the regression models mentioend."
   ]
  },
  {
   "cell_type": "code",
   "execution_count": null,
   "id": "75142bfd-7784-44ee-8c63-bb5f787be4ab",
   "metadata": {},
   "outputs": [],
   "source": []
  },
  {
   "cell_type": "code",
   "execution_count": null,
   "id": "289027a1-f1f6-4bad-a27d-08e96d97fc90",
   "metadata": {},
   "outputs": [
    {
     "name": "stdout",
     "output_type": "stream",
     "text": [
      "                    sum_sq     df           F        PR(>F)\n",
      "Group         2.316766e+08    2.0  151.011525  9.457518e-54\n",
      "Sex           9.911358e+04    1.0    0.129209  7.193818e-01\n",
      "Site          4.062641e+07   22.0    2.407375  3.573990e-04\n",
      "Age_centered  1.516980e+08    1.0  197.759758  5.575155e-39\n",
      "TIV_centered  2.449212e+08    1.0  319.289356  1.801405e-57\n",
      "Residual      4.556469e+08  594.0         NaN           NaN\n",
      "P-value for likelihood ratio test with original mode:  0.000218\n"
     ]
    }
   ],
   "source": [
    "# Show the ANOVA test for the different covariates\n",
    "table=stats.stats.anova_lm(site_results, typ=2)\n",
    "print(table)\n",
    "# Show a likelihood ratio test comparing this with the base model above (no Site covariate)\n",
    "lr_test=site_results.compare_lr_test(results)\n",
    "print('P-value for likelihood ratio test with original mode: ', np.format_float_positional(lr_test[1],precision=6))"
   ]
  },
  {
   "cell_type": "markdown",
   "id": "854244d2-0546-40e8-a30d-01e58d3b84c3",
   "metadata": {},
   "source": [
    "## ComBat approach for batch adjustment\n",
    "A more recent, advanced approach to handle multi-site data is the ComBat method, originally proposed for genomic analysis and now applied quite often to imaging analyses. ComBat has a lot of advantages, as it was designed to help both with the additive bias **AND** the multiplicative bias (heteroskedasticity). In addition, it has far better suited to handle uneven data between sitesa dn samll sample sizes for those sites. So let's take a look at This is really helpful, but what if there are difference in standard error between sites, and how can we trust those small sample size in some cells. ComBat provides \"harmonised\" values out of the analyses that have accounted for the batch variable (here site) so that you can perform your analysis on them. There are many implementations of ComBat around for R and for Python. I am using [neuroCombat](https://github.com/Jfortin1/neuroCombat) for Python, but there is also other implementations/extensions, such as [neuroHarmonize](https://github.com/rpomponio/neuroHarmonize).\n",
    "\n",
    "ComBat prefers lots of different features, so unlike the simple linear regression example, we will include lots of different volumes here, from the right accumbens (column 10) to the Insula volume (column 32)"
   ]
  },
  {
   "cell_type": "code",
   "execution_count": 34,
   "id": "cb5da443-8217-4972-b223-ad25f4bf56c6",
   "metadata": {},
   "outputs": [
    {
     "name": "stdout",
     "output_type": "stream",
     "text": [
      "[neuroCombat] Creating design matrix\n",
      "[neuroCombat] Standardizing data across features\n",
      "[neuroCombat] Fitting L/S model and finding priors\n",
      "[neuroCombat] Finding parametric adjustments\n",
      "[neuroCombat] Final adjustment of data\n"
     ]
    }
   ],
   "source": [
    "from neuroCombat import neuroCombat\n",
    "covars=df_xsec.filter([\"Age_centered\",\"TIV_centered\"])\n",
    "covars[\"Group\"]=df_xsec['Group'].cat.codes\n",
    "covars[\"Sex\"]=df_xsec['Sex'].cat.codes\n",
    "covars[\"Site\"]=df_xsec['Site'].cat.codes\n",
    "covars=covars[[\"Group\",\"Age_centered\",\"Sex\",\"TIV_centered\",\"Site\"]]\n",
    "categorical_cols=[\"Group\",\"Sex\"]\n",
    "batch_col=\"Site\"\n",
    "data=df_xsec.iloc[:,10:33].to_numpy(copy=True).transpose()\n",
    "data_combat = neuroCombat(dat=data,\n",
    "    covars=covars,\n",
    "    batch_col=batch_col,\n",
    "    categorical_cols=categorical_cols)\n"
   ]
  },
  {
   "cell_type": "markdown",
   "id": "77e23e53-c96b-4477-a2ce-f95e624ef9f8",
   "metadata": {},
   "source": [
    "So now we have harmonised data, let's run again the results to see what infomration we now get for these volumes. First I'll grab the harmoinsed insula volume and add it to the data frame."
   ]
  },
  {
   "cell_type": "code",
   "execution_count": 36,
   "id": "275380ee-66c8-422a-b5b7-210982504510",
   "metadata": {},
   "outputs": [],
   "source": [
    "df_xsec['Harmonised_Insula'] = data_combat[\"data\"][22,:].transpose()"
   ]
  },
  {
   "cell_type": "markdown",
   "id": "68109d26-3374-4622-adcb-56fa3738a618",
   "metadata": {},
   "source": [
    "Then I'll perform a similar regression again, this time with no site variable (as it should be harmonised by ComBat!)"
   ]
  },
  {
   "cell_type": "code",
   "execution_count": 37,
   "id": "d815cbf1-a0ae-4499-9fe1-9eaf76f76f99",
   "metadata": {},
   "outputs": [
    {
     "name": "stdout",
     "output_type": "stream",
     "text": [
      "                            OLS Regression Results                            \n",
      "==============================================================================\n",
      "Dep. Variable:      Harmonised_Insula   R-squared:                       0.721\n",
      "Model:                            OLS   Adj. R-squared:                  0.718\n",
      "Method:                 Least Squares   F-statistic:                     318.0\n",
      "Date:                Tue, 14 Sep 2021   Prob (F-statistic):          5.88e-168\n",
      "Time:                        10:50:08   Log-Likelihood:                -5082.8\n",
      "No. Observations:                 622   AIC:                         1.018e+04\n",
      "Df Residuals:                     616   BIC:                         1.020e+04\n",
      "Df Model:                           5                                         \n",
      "Covariance Type:            nonrobust                                         \n",
      "===========================================================================================\n",
      "                              coef    std err          t      P>|t|      [0.025      0.975]\n",
      "-------------------------------------------------------------------------------------------\n",
      "Intercept                1.065e+04     66.842    159.311      0.000    1.05e+04    1.08e+04\n",
      "Group[T.Presymptomatic]  -234.2988     76.252     -3.073      0.002    -384.045     -84.553\n",
      "Group[T.Symptomatic]    -2144.4292    110.241    -19.452      0.000   -2360.923   -1927.936\n",
      "Sex[T.Male]                65.8578     91.228      0.722      0.471    -113.297     245.013\n",
      "Age_centered              -41.2610      2.852    -14.467      0.000     -46.862     -35.660\n",
      "TIV_centered                5.5005      0.312     17.625      0.000       4.888       6.113\n",
      "==============================================================================\n",
      "Omnibus:                        2.125   Durbin-Watson:                   2.015\n",
      "Prob(Omnibus):                  0.346   Jarque-Bera (JB):                2.151\n",
      "Skew:                          -0.018   Prob(JB):                        0.341\n",
      "Kurtosis:                       3.286   Cond. No.                         501.\n",
      "==============================================================================\n",
      "\n",
      "Notes:\n",
      "[1] Standard Errors assume that the covariance matrix of the errors is correctly specified.\n"
     ]
    }
   ],
   "source": [
    "# Perform linear regression on harmonised values.\n",
    "harmonised_results= statsfx.ols('Harmonised_Insula ~ Group + Age_centered + Sex + TIV_centered',data=df_xsec).fit()\n",
    "#Print Summary of regression.\n",
    "print(harmonised_results.summary())"
   ]
  },
  {
   "cell_type": "markdown",
   "id": "91d36c43-f291-4bda-a09e-984cb0ad9af0",
   "metadata": {},
   "source": [
    "### Interpretation\n",
    "If anything, the models are a touch stronger:\n",
    "* The intercept has gone slightly down from 10730mm$^3$ to 10650mm$^3$. \n",
    "* The presympotomatic carrier effect has stayed the same, but the standard error is a little lower, resulting in a slight increase in the t-statistic.\n",
    "* The symptomatic carrier effect also remains the same, again with slightly less standard errro. \n",
    "* Sex remains non-significant, while Age and TIV have similar effects. \n",
    "\n",
    "What happens if we were to include Site as a covariate now?"
   ]
  },
  {
   "cell_type": "code",
   "execution_count": 39,
   "id": "c0dec2dc-c808-4ec4-91e9-ec9a8773fcd8",
   "metadata": {},
   "outputs": [
    {
     "name": "stdout",
     "output_type": "stream",
     "text": [
      "                            OLS Regression Results                            \n",
      "==============================================================================\n",
      "Dep. Variable:      Harmonised_Insula   R-squared:                       0.732\n",
      "Model:                            OLS   Adj. R-squared:                  0.719\n",
      "Method:                 Least Squares   F-statistic:                     59.98\n",
      "Date:                Tue, 14 Sep 2021   Prob (F-statistic):          2.72e-150\n",
      "Time:                        10:56:16   Log-Likelihood:                -5070.4\n",
      "No. Observations:                 622   AIC:                         1.020e+04\n",
      "Df Residuals:                     594   BIC:                         1.032e+04\n",
      "Df Model:                          27                                         \n",
      "Covariance Type:            nonrobust                                         \n",
      "===========================================================================================\n",
      "                              coef    std err          t      P>|t|      [0.025      0.975]\n",
      "-------------------------------------------------------------------------------------------\n",
      "Intercept                1.036e+04    169.677     61.035      0.000       1e+04    1.07e+04\n",
      "Group[T.Presymptomatic]  -211.3021     78.628     -2.687      0.007    -365.725     -56.880\n",
      "Group[T.Symptomatic]    -2103.8031    118.931    -17.689      0.000   -2337.379   -1870.227\n",
      "Sex[T.Male]               -11.9721     94.178     -0.127      0.899    -196.934     172.990\n",
      "Site[T.1]                 554.3656    210.060      2.639      0.009     141.815     966.916\n",
      "Site[T.2]                  24.9842    530.175      0.047      0.962   -1016.261    1066.230\n",
      "Site[T.3]                 348.4921    178.318      1.954      0.051      -1.718     698.702\n",
      "Site[T.4]                1028.7938    527.677      1.950      0.052      -7.546    2065.133\n",
      "Site[T.5]                 302.6632    224.263      1.350      0.178    -137.781     743.107\n",
      "Site[T.6]                 483.1144    260.738      1.853      0.064     -28.967     995.196\n",
      "Site[T.7]                 249.3721    246.408      1.012      0.312    -234.566     733.310\n",
      "Site[T.8]                 316.0126    193.627      1.632      0.103     -64.264     696.289\n",
      "Site[T.9]                 685.0132    331.030      2.069      0.039      34.882    1335.145\n",
      "Site[T.10]                488.8941    420.741      1.162      0.246    -337.426    1315.214\n",
      "Site[T.11]                248.5090    220.256      1.128      0.260    -184.067     681.085\n",
      "Site[T.12]                384.5100    243.132      1.581      0.114     -92.993     862.013\n",
      "Site[T.13]                144.9388    226.660      0.639      0.523    -300.214     590.091\n",
      "Site[T.14]               -123.2408    631.726     -0.195      0.845   -1363.928    1117.447\n",
      "Site[T.15]               -437.5629    322.046     -1.359      0.175   -1070.051     194.925\n",
      "Site[T.16]                321.9443    230.335      1.398      0.163    -130.426     774.315\n",
      "Site[T.17]                489.4209    230.381      2.124      0.034      36.961     941.881\n",
      "Site[T.18]                210.5275    282.398      0.745      0.456    -344.092     765.147\n",
      "Site[T.19]                 69.8858    347.313      0.201      0.841    -612.226     751.998\n",
      "Site[T.20]                103.9847    270.042      0.385      0.700    -426.369     634.338\n",
      "Site[T.21]                293.6487    207.372      1.416      0.157    -113.622     700.920\n",
      "Site[T.22]                171.4089    632.009      0.271      0.786   -1069.835    1412.653\n",
      "Age_centered              -41.7523      2.956    -14.126      0.000     -47.557     -35.947\n",
      "TIV_centered                5.7969      0.324     17.872      0.000       5.160       6.434\n",
      "==============================================================================\n",
      "Omnibus:                        2.307   Durbin-Watson:                   2.031\n",
      "Prob(Omnibus):                  0.316   Jarque-Bera (JB):                2.374\n",
      "Skew:                          -0.025   Prob(JB):                        0.305\n",
      "Kurtosis:                       3.298   Cond. No.                     3.55e+03\n",
      "==============================================================================\n",
      "\n",
      "Notes:\n",
      "[1] Standard Errors assume that the covariance matrix of the errors is correctly specified.\n",
      "[2] The condition number is large, 3.55e+03. This might indicate that there are\n",
      "strong multicollinearity or other numerical problems.\n"
     ]
    }
   ],
   "source": [
    "harmonised_site_results= statsfx.ols('Harmonised_Insula ~ Group + Age_centered + Sex + TIV_centered + Site',data=df_xsec).fit()\n",
    "print(harmonised_site_results.summary())"
   ]
  },
  {
   "cell_type": "code",
   "execution_count": 40,
   "id": "b83432dd-3130-4e15-a7ba-563d08ac12ea",
   "metadata": {},
   "outputs": [
    {
     "name": "stdout",
     "output_type": "stream",
     "text": [
      "                    sum_sq     df           F        PR(>F)\n",
      "Group         2.352455e+08    2.0  159.393825  3.843765e-56\n",
      "Sex           1.192500e+04    1.0    0.016160  8.988872e-01\n",
      "Site          1.781265e+07   22.0    1.097200  3.442730e-01\n",
      "Age_centered  1.472567e+08    1.0  199.551527  2.839497e-39\n",
      "TIV_centered  2.357127e+08    1.0  319.420699  1.725859e-57\n",
      "Residual      4.383352e+08  594.0         NaN           NaN\n",
      "P-value for likelihood ratio test with original mode:  0.307898\n"
     ]
    }
   ],
   "source": [
    "#ANOVA test\n",
    "table=stats.stats.anova_lm(harmonised_site_results, typ=2)\n",
    "print(table)\n",
    "# Show a likelihood ratio test comparing this with the base model above (no Site covariate)\n",
    "lr_test=harmonised_site_results.compare_lr_test(harmonised_results)\n",
    "print('P-value for likelihood ratio test with original mode: ', np.format_float_positional(lr_test[1],precision=6))"
   ]
  },
  {
   "cell_type": "markdown",
   "id": "f11de025-7b88-443e-a08b-d30b98309868",
   "metadata": {},
   "source": [
    "Notice now that there is **NOT** statsitcal evidence in the *ANOVA* test, nor in the likelihood ratio test. With harmonised values, site no longer adds to the data, as would be expected."
   ]
  },
  {
   "cell_type": "markdown",
   "id": "3e072ea2-1538-4399-becf-56f35e93634c",
   "metadata": {},
   "source": [
    "### Try your own\n",
    "Now that you can see how neuroCombat runs, grab one of the harmonised columns (perhaps one of the variables you tried in the regression above, and run the same regression with the haronised verion. Are the results similar to the insula?"
   ]
  },
  {
   "cell_type": "code",
   "execution_count": null,
   "id": "72355384-8d87-4c2c-8c32-92c1a5925003",
   "metadata": {},
   "outputs": [],
   "source": []
  },
  {
   "cell_type": "markdown",
   "id": "1f7bf053-5396-4f6b-8836-ad52d97b0314",
   "metadata": {},
   "source": [
    "### Summary\n",
    "Hopefully, this demonstration showed the effects of site on statistical analysis and how ComBat is a worthwhile appproach to pursue when you need to correct for these batch effects."
   ]
  },
  {
   "cell_type": "code",
   "execution_count": null,
   "id": "48fdd5e5-6328-4927-9f32-470df7360932",
   "metadata": {},
   "outputs": [],
   "source": []
  }
 ],
 "metadata": {
  "kernelspec": {
   "display_name": "Python 3 (ipykernel)",
   "language": "python",
   "name": "python3"
  },
  "language_info": {
   "codemirror_mode": {
    "name": "ipython",
    "version": 3
   },
   "file_extension": ".py",
   "mimetype": "text/x-python",
   "name": "python",
   "nbconvert_exporter": "python",
   "pygments_lexer": "ipython3",
   "version": "3.7.10"
  }
 },
 "nbformat": 4,
 "nbformat_minor": 5
}
