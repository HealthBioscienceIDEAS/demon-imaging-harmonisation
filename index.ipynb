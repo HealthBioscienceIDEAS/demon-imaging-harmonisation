{
 "cells": [
  {
   "cell_type": "code",
   "execution_count": 1,
   "metadata": {},
   "outputs": [],
   "source": [
    "import os"
   ]
  },
  {
   "cell_type": "markdown",
   "metadata": {},
   "source": [
    "# FSL eyes setup\n",
    "\n",
    "This *magic* command is needed to tie the wxWidgets backend used by FSLeyes to the notebook. Note that there are some steps to make this work locally, please consult the FSLeyes documentation about [linking to a Jupyter notebook](https://open.win.ox.ac.uk/pages/fsl/fsleyes/fsleyes/userdoc/fsleyes_notebook.html) and [troubleshooting for Mac](https://open.win.ox.ac.uk/pages/fsl/fsleyes/fsleyes/userdoc/troubleshooting.html#macos-i-can-t-start-fsleyes-from-ipython-jupyter-notebook) for more information."
   ]
  },
  {
   "cell_type": "code",
   "execution_count": 3,
   "metadata": {},
   "outputs": [],
   "source": [
    "%gui wx"
   ]
  },
  {
   "cell_type": "markdown",
   "metadata": {},
   "source": [
    "Next, we initialise FSLeyes and create the frame, or window that we will be starting the viewer in."
   ]
  },
  {
   "cell_type": "code",
   "execution_count": null,
   "metadata": {},
   "outputs": [],
   "source": [
    "import fsleyes\n",
    "overlayList, displayCtx, frame = fsleyes.embed()\n",
    "frame.Show()"
   ]
  },
  {
   "cell_type": "code",
   "execution_count": 5,
   "metadata": {},
   "outputs": [],
   "source": [
    "from fsleyes.views.orthopanel import OrthoPanel\n",
    "from fsl.data.image import Image\n",
    "\n",
    "ortho = frame.addViewPanel(OrthoPanel)\n",
    "\n",
    "overlayList.append(Image(os.path.expandvars('$FSLDIR/data/standard/MNI152_T1_2mm')))"
   ]
  },
  {
   "cell_type": "markdown",
   "metadata": {},
   "source": [
    "Then we grab the image data that is needed for viewing. We first create an O"
   ]
  },
  {
   "cell_type": "code",
   "execution_count": null,
   "metadata": {},
   "outputs": [],
   "source": []
  }
 ],
 "metadata": {
  "kernelspec": {
   "display_name": "Python 3 (GUI)",
   "language": "python",
   "name": "python3w"
  },
  "language_info": {
   "codemirror_mode": {
    "name": "ipython",
    "version": 3
   },
   "file_extension": ".py",
   "mimetype": "text/x-python",
   "name": "python",
   "nbconvert_exporter": "python",
   "pygments_lexer": "ipython3",
   "version": "3.7.10"
  }
 },
 "nbformat": 4,
 "nbformat_minor": 4
}
