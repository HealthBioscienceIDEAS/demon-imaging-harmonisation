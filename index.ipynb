{
 "cells": [
  {
   "cell_type": "code",
   "execution_count": 1,
   "metadata": {},
   "outputs": [],
   "source": [
    "import os"
   ]
  },
  {
   "cell_type": "markdown",
   "metadata": {},
   "source": [
    "# Grabbing data with datalad\n",
    "[Datalad](https://www.datalad.org/) is a git and git-annex based method of version control for data management, data sharing and reproducible science. For this lesson, it offers us a convenient way of grabbing the data that we need for the lesson. These comamands import datald so that we can use it to clone the repository into our virtual machine."
   ]
  },
  {
   "cell_type": "code",
   "execution_count": 3,
   "metadata": {},
   "outputs": [],
   "source": [
    "import nest_asyncio\n",
    "nest_asyncio.apply()"
   ]
  },
  {
   "cell_type": "code",
   "execution_count": 4,
   "metadata": {},
   "outputs": [],
   "source": [
    "import datalad.api as dl"
   ]
  },
  {
   "cell_type": "code",
   "execution_count": 5,
   "metadata": {},
   "outputs": [],
   "source": [
    "dl_source='/Users/davecash/Data/IDEAS/sample'"
   ]
  },
  {
   "cell_type": "code",
   "execution_count": 6,
   "metadata": {},
   "outputs": [],
   "source": [
    "sample=dl.clone(dl_source,path='/tmp/sample',description='Cloned sample dataset for import')"
   ]
  },
  {
   "cell_type": "code",
   "execution_count": 7,
   "metadata": {},
   "outputs": [],
   "source": [
    "bl_img=sample.get('./baseline_t1.nii.gz')"
   ]
  },
  {
   "cell_type": "code",
   "execution_count": 8,
   "metadata": {},
   "outputs": [],
   "source": [
    "fu_img=sample.get('./followup_t1.nii.gz')"
   ]
  },
  {
   "cell_type": "code",
   "execution_count": 9,
   "metadata": {},
   "outputs": [
    {
     "name": "stdout",
     "output_type": "stream",
     "text": [
      "[{'action': 'get', 'path': '/tmp/sample/baseline_t1.nii.gz', 'type': 'file', 'refds': '/tmp/sample', 'status': 'notneeded', 'message': 'already present'}]\n"
     ]
    }
   ],
   "source": [
    "print(bl_img)"
   ]
  },
  {
   "cell_type": "markdown",
   "metadata": {},
   "source": [
    "# FSL eyes setup\n",
    "\n",
    "This *magic* command is needed to tie the wxWidgets backend used by FSLeyes to the notebook. Note that there are some steps to make this work locally, please consult the FSLeyes documentation about [linking to a Jupyter notebook](https://open.win.ox.ac.uk/pages/fsl/fsleyes/fsleyes/userdoc/fsleyes_notebook.html) and [troubleshooting for Mac](https://open.win.ox.ac.uk/pages/fsl/fsleyes/fsleyes/userdoc/troubleshooting.html#macos-i-can-t-start-fsleyes-from-ipython-jupyter-notebook) for more information."
   ]
  },
  {
   "cell_type": "code",
   "execution_count": 10,
   "metadata": {},
   "outputs": [],
   "source": [
    "%gui wx"
   ]
  },
  {
   "cell_type": "markdown",
   "metadata": {},
   "source": [
    "Next, we initialise FSLeyes and create the frame, or window that we will be starting the viewer in."
   ]
  },
  {
   "cell_type": "code",
   "execution_count": 11,
   "metadata": {},
   "outputs": [
    {
     "name": "stderr",
     "output_type": "stream",
     "text": [
      "15:00:29: Debug: Adding duplicate image handler for 'Windows bitmap file'\n",
      "15:00:29: Debug: Adding duplicate animation handler for '1' type\n",
      "15:00:29: Debug: Adding duplicate animation handler for '2' type\n",
      "15:00:31: Debug: Adding duplicate image handler for 'Windows bitmap file'\n",
      "15:00:31: Debug: Adding duplicate animation handler for '1' type\n",
      "15:00:31: Debug: Adding duplicate animation handler for '2' type\n",
      "/Users/davecash/anaconda3/envs/demon-imaging-harmonisation/lib/python3.7/site-packages/fsleyes/colourmaps.py:572: UserWarning: Trying to register the cmap 'pink' which already exists.\n",
      "  mplcm.register_cmap(key, cmap, override_builtin=True)\n",
      "/Users/davecash/anaconda3/envs/demon-imaging-harmonisation/lib/python3.7/site-packages/fsleyes/colourmaps.py:572: UserWarning: Trying to register the cmap 'hot' which already exists.\n",
      "  mplcm.register_cmap(key, cmap, override_builtin=True)\n",
      "/Users/davecash/anaconda3/envs/demon-imaging-harmonisation/lib/python3.7/site-packages/fsleyes/colourmaps.py:572: UserWarning: Trying to register the cmap 'cool' which already exists.\n",
      "  mplcm.register_cmap(key, cmap, override_builtin=True)\n",
      "/Users/davecash/anaconda3/envs/demon-imaging-harmonisation/lib/python3.7/site-packages/fsleyes/colourmaps.py:572: UserWarning: Trying to register the cmap 'copper' which already exists.\n",
      "  mplcm.register_cmap(key, cmap, override_builtin=True)\n",
      "/Users/davecash/anaconda3/envs/demon-imaging-harmonisation/lib/python3.7/site-packages/fsleyes/colourmaps.py:572: UserWarning: Trying to register the cmap 'hsv' which already exists.\n",
      "  mplcm.register_cmap(key, cmap, override_builtin=True)\n"
     ]
    },
    {
     "data": {
      "text/plain": [
       "True"
      ]
     },
     "execution_count": 11,
     "metadata": {},
     "output_type": "execute_result"
    }
   ],
   "source": [
    "import fsleyes\n",
    "overlayList, displayCtx, frame = fsleyes.embed()\n",
    "frame.Show()"
   ]
  },
  {
   "cell_type": "markdown",
   "metadata": {},
   "source": [
    "Then we grab the image data that is needed for viewing. We first create an O"
   ]
  },
  {
   "cell_type": "code",
   "execution_count": 12,
   "metadata": {},
   "outputs": [],
   "source": [
    "from fsleyes.views.orthopanel import OrthoPanel\n",
    "from fsl.data.image import Image\n",
    "ortho = frame.addViewPanel(OrthoPanel)"
   ]
  },
  {
   "cell_type": "code",
   "execution_count": 18,
   "metadata": {},
   "outputs": [],
   "source": [
    "overlayList.append(Image(bl_img[0]['path']))\n",
    "overlayList.append(Image(fu_img[0]['path']))"
   ]
  },
  {
   "cell_type": "code",
   "execution_count": 19,
   "metadata": {},
   "outputs": [],
   "source": [
    "frame.Close()\n",
    "fsleyes.shutdown()"
   ]
  },
  {
   "cell_type": "code",
   "execution_count": null,
   "metadata": {},
   "outputs": [],
   "source": []
  }
 ],
 "metadata": {
  "kernelspec": {
   "display_name": "Python 3 (GUI)",
   "language": "python",
   "name": "python3w"
  },
  "language_info": {
   "codemirror_mode": {
    "name": "ipython",
    "version": 3
   },
   "file_extension": ".py",
   "mimetype": "text/x-python",
   "name": "python",
   "nbconvert_exporter": "python",
   "pygments_lexer": "ipython3",
   "version": "3.7.10"
  }
 },
 "nbformat": 4,
 "nbformat_minor": 4
}
