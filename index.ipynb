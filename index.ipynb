{
 "cells": [
  {
   "cell_type": "markdown",
   "metadata": {},
   "source": [
    "# Why is harmonisation needed?\n",
    "This notebook will give a brief example of how differences arise from using different scanners.\n",
    "If we were to acquire the same individual on twod ifferent days, we would expect the resutling brain\n",
    "images to be nearly the same. However, if we were to acquire the subject on one scanner the first day\n",
    "and another scanner the second day, we would see differences, as MRI scanning on its own is not inherently\n",
    "desgned to be quantative."
   ]
  },
  {
   "cell_type": "code",
   "execution_count": 1,
   "metadata": {},
   "outputs": [],
   "source": [
    "import os\n",
    "import matplotlib\n",
    "%matplotlib widget"
   ]
  },
  {
   "cell_type": "markdown",
   "metadata": {},
   "source": [
    "# Grabbing data with datalad\n",
    "[Datalad](https://www.datalad.org/) is a git and git-annex based method of version control for data management, data sharing and reproducible science. For this lesson, it offers us a convenient way of grabbing the data that we need for the lesson. These comamands import datald so that we can use it to clone the repository into our virtual machine."
   ]
  },
  {
   "cell_type": "code",
   "execution_count": 2,
   "metadata": {},
   "outputs": [],
   "source": [
    "import nest_asyncio\n",
    "nest_asyncio.apply()"
   ]
  },
  {
   "cell_type": "code",
   "execution_count": 3,
   "metadata": {},
   "outputs": [],
   "source": [
    "import datalad.api as dl"
   ]
  },
  {
   "cell_type": "code",
   "execution_count": 4,
   "metadata": {},
   "outputs": [
    {
     "name": "stderr",
     "output_type": "stream",
     "text": [
      "[INFO] Fetching updates for Dataset(/tmp/sample) \n"
     ]
    },
    {
     "name": "stdout",
     "output_type": "stream",
     "text": [
      ".: demons-data(?) [git]\n"
     ]
    },
    {
     "data": {
      "text/plain": [
       "[{'action': 'enable-sibling',\n",
       "  'path': '/tmp/sample',\n",
       "  'type': 'sibling',\n",
       "  'name': 'demons-data',\n",
       "  'refds': '/tmp/sample',\n",
       "  'status': 'ok'}]"
      ]
     },
     "execution_count": 4,
     "metadata": {},
     "output_type": "execute_result"
    }
   ],
   "source": [
    "dl_source='https://github.com/HealthBioscienceIDEAS/demon-imaging-data.git'\n",
    "sample=dl.clone(dl_source,path='/tmp/sample',description='Cloned sample dataset for import')\n",
    "sample.update(merge=True)\n",
    "sample.siblings(action='enable',name='demons-data')"
   ]
  },
  {
   "cell_type": "code",
   "execution_count": 5,
   "metadata": {},
   "outputs": [],
   "source": [
    "bl_img=sample.get('./baseline_t1.nii.gz')"
   ]
  },
  {
   "cell_type": "code",
   "execution_count": 6,
   "metadata": {},
   "outputs": [],
   "source": [
    "fu_img=sample.get('./followup_t1.nii.gz')"
   ]
  },
  {
   "cell_type": "markdown",
   "metadata": {},
   "source": [
    "# Running imaging with Nipype\n",
    "The python package [nipype](https://nipype.readthedocs.io/en/latest/index.html) provides an effective means in Python to run your image processing workflows, taking \"building blocks\" of individual commands, allowing you to piece together bits of various software packages (FSL, SPM, FreeSurfer, AFNI, MRtrix, etc) into complete pipelines. We are just going to use it for simple cases here by registereing our baseline and followup image."
   ]
  },
  {
   "cell_type": "code",
   "execution_count": 7,
   "metadata": {},
   "outputs": [],
   "source": [
    "from nipype.interfaces import niftyreg\n"
   ]
  },
  {
   "cell_type": "code",
   "execution_count": 8,
   "metadata": {},
   "outputs": [
    {
     "data": {
      "text/plain": [
       "'reg_aladin -aff /tmp/sample/followup_to_baseline_aff.txt -flo /tmp/sample/followup_t1.nii.gz -omp 1 -ref /tmp/sample/baseline_t1.nii.gz -res /tmp/sample/followup_resampled.nii.gz'"
      ]
     },
     "execution_count": 8,
     "metadata": {},
     "output_type": "execute_result"
    }
   ],
   "source": [
    "node = niftyreg.RegAladin()\n",
    "node.inputs.ref_file = bl_img[0]['path']\n",
    "node.inputs.flo_file = fu_img[0]['path']\n",
    "out_path=os.path.dirname(bl_img[0]['path'])\n",
    "node.inputs.aff_file = os.path.join(out_path,'followup_to_baseline_aff.txt')\n",
    "node.inputs.res_file = os.path.join(out_path,'followup_resampled.nii.gz')\n",
    "node.cmdline"
   ]
  },
  {
   "cell_type": "code",
   "execution_count": 9,
   "metadata": {},
   "outputs": [
    {
     "name": "stdout",
     "output_type": "stream",
     "text": [
      "210909-14:14:00,12 nipype.interface INFO:\n",
      "\t stdout 2021-09-09T14:14:00.011548:[NiftyReg WARNING] NiftyReg has not been compiled with OpenMP, the '-omp' flag is ignored\n",
      "210909-14:14:00,15 nipype.interface INFO:\n",
      "\t stdout 2021-09-09T14:14:00.011548:[reg_aladin] \n",
      "210909-14:14:00,16 nipype.interface INFO:\n",
      "\t stdout 2021-09-09T14:14:00.011548:[reg_aladin] Command line:\n",
      "210909-14:14:00,16 nipype.interface INFO:\n",
      "\t stdout 2021-09-09T14:14:00.011548:[reg_aladin] \t reg_aladin -aff /tmp/sample/followup_to_baseline_aff.txt -flo /tmp/sample/followup_t1.nii.gz -omp 1 -ref /tmp/sample/baseline_t1.nii.gz -res /tmp/sample/followup_resampled.nii.gz\n",
      "210909-14:14:00,18 nipype.interface INFO:\n",
      "\t stdout 2021-09-09T14:14:00.011548:[reg_aladin] \n",
      "210909-14:14:00,18 nipype.interface INFO:\n",
      "\t stdout 2021-09-09T14:14:00.011548:[reg_aladin_sym] Parameters\n",
      "210909-14:14:00,19 nipype.interface INFO:\n",
      "\t stdout 2021-09-09T14:14:00.011548:[reg_aladin_sym] Platform: cpu_platform\n",
      "210909-14:14:00,20 nipype.interface INFO:\n",
      "\t stdout 2021-09-09T14:14:00.011548:[reg_aladin_sym] Reference image name: /tmp/sample/baseline_t1.nii.gz\n",
      "210909-14:14:00,21 nipype.interface INFO:\n",
      "\t stdout 2021-09-09T14:14:00.011548:[reg_aladin_sym] \t208x256x256 voxels\n",
      "210909-14:14:00,21 nipype.interface INFO:\n",
      "\t stdout 2021-09-09T14:14:00.011548:[reg_aladin_sym] \t1.1x1.10156x1.10156 mm\n",
      "210909-14:14:00,22 nipype.interface INFO:\n",
      "\t stdout 2021-09-09T14:14:00.011548:[reg_aladin_sym] Floating image name: /tmp/sample/followup_t1.nii.gz\n",
      "210909-14:14:00,23 nipype.interface INFO:\n",
      "\t stdout 2021-09-09T14:14:00.011548:[reg_aladin_sym] \t208x256x256 voxels\n",
      "210909-14:14:00,24 nipype.interface INFO:\n",
      "\t stdout 2021-09-09T14:14:00.011548:[reg_aladin_sym] \t1.1x1.10156x1.10156 mm\n",
      "210909-14:14:00,24 nipype.interface INFO:\n",
      "\t stdout 2021-09-09T14:14:00.011548:[reg_aladin_sym] Maximum iteration number: 5\n",
      "210909-14:14:00,25 nipype.interface INFO:\n",
      "\t stdout 2021-09-09T14:14:00.011548:[reg_aladin_sym] \t(10 during the first level)\n",
      "210909-14:14:00,26 nipype.interface INFO:\n",
      "\t stdout 2021-09-09T14:14:00.011548:[reg_aladin_sym] Percentage of blocks: 50 %\n",
      "210909-14:14:00,26 nipype.interface INFO:\n",
      "\t stdout 2021-09-09T14:14:00.011548:[reg_aladin_sym] * * * * * * * * * * * * * * * * * * * * * * * * * * * * * *\n",
      "210909-14:14:00,27 nipype.interface INFO:\n",
      "\t stdout 2021-09-09T14:14:00.011548:[reg_aladin_sym] Current level 1 / 3\n",
      "210909-14:14:00,28 nipype.interface INFO:\n",
      "\t stdout 2021-09-09T14:14:00.011548:[reg_aladin_sym] reference image size: \t52x64x64 voxels\t4.4x4.40625x4.40625 mm\n",
      "210909-14:14:00,30 nipype.interface INFO:\n",
      "\t stdout 2021-09-09T14:14:00.011548:[reg_aladin_sym] floating image size: \t52x64x64 voxels\t4.4x4.40625x4.40625 mm\n",
      "210909-14:14:00,31 nipype.interface INFO:\n",
      "\t stdout 2021-09-09T14:14:00.011548:[reg_aladin_sym] Block size = [4 4 4]\n",
      "210909-14:14:00,32 nipype.interface INFO:\n",
      "\t stdout 2021-09-09T14:14:00.011548:[reg_aladin_sym] * * * * * * * * * * * * * * * * * * * * * * * * * * * * * *\n",
      "210909-14:14:00,32 nipype.interface INFO:\n",
      "\t stdout 2021-09-09T14:14:00.011548:[reg_aladin_sym] Forward Block number = [13 16 16]\n",
      "210909-14:14:00,33 nipype.interface INFO:\n",
      "\t stdout 2021-09-09T14:14:00.011548:[reg_aladin_sym] Backward Block number = [13 16 16]\n",
      "210909-14:14:00,34 nipype.interface INFO:\n",
      "\t stdout 2021-09-09T14:14:00.011548:[reg_aladin_sym] Initial forward transformation matrix::\n",
      "210909-14:14:00,35 nipype.interface INFO:\n",
      "\t stdout 2021-09-09T14:14:00.011548:1\t0\t0\t3.330559\n",
      "210909-14:14:00,35 nipype.interface INFO:\n",
      "\t stdout 2021-09-09T14:14:00.011548:0\t1\t0\t1.66629\n",
      "210909-14:14:00,36 nipype.interface INFO:\n",
      "\t stdout 2021-09-09T14:14:00.011548:0\t0\t1\t15.80571\n",
      "210909-14:14:00,37 nipype.interface INFO:\n",
      "\t stdout 2021-09-09T14:14:00.011548:0\t0\t0\t1\n",
      "210909-14:14:00,37 nipype.interface INFO:\n",
      "\t stdout 2021-09-09T14:14:00.011548:[reg_aladin_sym] Initial backward transformation matrix::\n",
      "210909-14:14:00,38 nipype.interface INFO:\n",
      "\t stdout 2021-09-09T14:14:00.011548:1\t0\t0\t-3.330559\n",
      "210909-14:14:00,38 nipype.interface INFO:\n",
      "\t stdout 2021-09-09T14:14:00.011548:0\t1\t0\t-1.66629\n",
      "210909-14:14:00,39 nipype.interface INFO:\n",
      "\t stdout 2021-09-09T14:14:00.011548:0\t0\t1\t-15.80571\n",
      "210909-14:14:00,40 nipype.interface INFO:\n",
      "\t stdout 2021-09-09T14:14:00.011548:0\t0\t0\t1\n",
      "210909-14:14:00,40 nipype.interface INFO:\n",
      "\t stdout 2021-09-09T14:14:00.011548:[reg_aladin_sym] * * * * * * * * * * * * * * * * * * * * * * * * * * * * * *\n",
      "210909-14:14:00,41 nipype.interface INFO:\n",
      "\t stdout 2021-09-09T14:14:00.011548:[reg_aladin_sym] Final forward transformation matrix::\n",
      "210909-14:14:00,42 nipype.interface INFO:\n",
      "\t stdout 2021-09-09T14:14:00.011548:1.004998\t-0.03289064\t0.04053006\t6.835503\n",
      "210909-14:14:00,42 nipype.interface INFO:\n",
      "\t stdout 2021-09-09T14:14:00.011548:0.02376652\t0.984069\t0.05154669\t-1.466686\n",
      "210909-14:14:00,43 nipype.interface INFO:\n",
      "\t stdout 2021-09-09T14:14:00.011548:-0.04280852\t-0.0712559\t1.015532\t31.69087\n",
      "210909-14:14:00,44 nipype.interface INFO:\n",
      "\t stdout 2021-09-09T14:14:00.011548:0\t0\t0\t1\n",
      "210909-14:14:00,44 nipype.interface INFO:\n",
      "\t stdout 2021-09-09T14:14:00.011548:[reg_aladin_sym] Final backward transformation matrix::\n",
      "210909-14:14:00,45 nipype.interface INFO:\n",
      "\t stdout 2021-09-09T14:14:00.011548:0.9925599\t0.03019507\t-0.04114591\t-5.436409\n",
      "210909-14:14:00,46 nipype.interface INFO:\n",
      "\t stdout 2021-09-09T14:14:00.011548:-0.02606742\t1.011675\t-0.05031057\t3.256379\n",
      "210909-14:14:00,46 nipype.interface INFO:\n",
      "\t stdout 2021-09-09T14:14:00.011548:0.04001113\t0.07225812\t0.9794415\t-31.20687\n",
      "210909-14:14:00,47 nipype.interface INFO:\n",
      "\t stdout 2021-09-09T14:14:00.011548:0\t0\t0\t1\n",
      "210909-14:14:00,48 nipype.interface INFO:\n",
      "\t stdout 2021-09-09T14:14:00.011548:[reg_aladin_sym] - - - - - - - - - - - - - - - - - - - - - - - - - - - - - -\n",
      "210909-14:14:00,48 nipype.interface INFO:\n",
      "\t stdout 2021-09-09T14:14:00.011548:[reg_aladin_sym] Current level 2 / 3\n",
      "210909-14:14:00,49 nipype.interface INFO:\n",
      "\t stdout 2021-09-09T14:14:00.011548:[reg_aladin_sym] reference image size: \t104x128x128 voxels\t2.2x2.20312x2.20312 mm\n",
      "210909-14:14:00,50 nipype.interface INFO:\n",
      "\t stdout 2021-09-09T14:14:00.011548:[reg_aladin_sym] floating image size: \t104x128x128 voxels\t2.2x2.20312x2.20312 mm\n",
      "210909-14:14:00,51 nipype.interface INFO:\n",
      "\t stdout 2021-09-09T14:14:00.011548:[reg_aladin_sym] Block size = [4 4 4]\n",
      "210909-14:14:00,51 nipype.interface INFO:\n",
      "\t stdout 2021-09-09T14:14:00.011548:[reg_aladin_sym] * * * * * * * * * * * * * * * * * * * * * * * * * * * * * *\n",
      "210909-14:14:00,52 nipype.interface INFO:\n",
      "\t stdout 2021-09-09T14:14:00.011548:[reg_aladin_sym] Forward Block number = [26 32 32]\n",
      "210909-14:14:00,52 nipype.interface INFO:\n",
      "\t stdout 2021-09-09T14:14:00.011548:[reg_aladin_sym] Backward Block number = [26 32 32]\n",
      "210909-14:14:00,53 nipype.interface INFO:\n",
      "\t stdout 2021-09-09T14:14:00.011548:[reg_aladin_sym] Initial forward transformation matrix::\n",
      "210909-14:14:00,54 nipype.interface INFO:\n",
      "\t stdout 2021-09-09T14:14:00.011548:1.004998\t-0.03289064\t0.04053006\t6.835503\n",
      "210909-14:14:00,54 nipype.interface INFO:\n",
      "\t stdout 2021-09-09T14:14:00.011548:0.02376652\t0.984069\t0.05154669\t-1.466686\n",
      "210909-14:14:00,55 nipype.interface INFO:\n",
      "\t stdout 2021-09-09T14:14:00.011548:-0.04280852\t-0.0712559\t1.015532\t31.69087\n",
      "210909-14:14:00,56 nipype.interface INFO:\n",
      "\t stdout 2021-09-09T14:14:00.011548:0\t0\t0\t1\n",
      "210909-14:14:00,56 nipype.interface INFO:\n",
      "\t stdout 2021-09-09T14:14:00.011548:[reg_aladin_sym] Initial backward transformation matrix::\n",
      "210909-14:14:00,57 nipype.interface INFO:\n",
      "\t stdout 2021-09-09T14:14:00.011548:0.9925599\t0.03019507\t-0.04114591\t-5.436409\n",
      "210909-14:14:00,58 nipype.interface INFO:\n",
      "\t stdout 2021-09-09T14:14:00.011548:-0.02606742\t1.011675\t-0.05031057\t3.256379\n",
      "210909-14:14:00,58 nipype.interface INFO:\n",
      "\t stdout 2021-09-09T14:14:00.011548:0.04001113\t0.07225812\t0.9794415\t-31.20687\n",
      "210909-14:14:00,59 nipype.interface INFO:\n",
      "\t stdout 2021-09-09T14:14:00.011548:0\t0\t0\t1\n",
      "210909-14:14:00,59 nipype.interface INFO:\n",
      "\t stdout 2021-09-09T14:14:00.011548:[reg_aladin_sym] * * * * * * * * * * * * * * * * * * * * * * * * * * * * * *\n",
      "210909-14:14:00,60 nipype.interface INFO:\n",
      "\t stdout 2021-09-09T14:14:00.011548:[reg_aladin_sym] Final forward transformation matrix::\n",
      "210909-14:14:00,61 nipype.interface INFO:\n",
      "\t stdout 2021-09-09T14:14:00.011548:1.010631\t-0.02933162\t0.04632124\t7.069935\n",
      "210909-14:14:00,61 nipype.interface INFO:\n",
      "\t stdout 2021-09-09T14:14:00.011548:0.0185926\t0.9881219\t0.07036676\t-1.415142\n",
      "210909-14:14:00,62 nipype.interface INFO:\n",
      "\t stdout 2021-09-09T14:14:00.011548:-0.04838684\t-0.08340407\t1.00457\t32.01606\n",
      "210909-14:14:00,62 nipype.interface INFO:\n",
      "\t stdout 2021-09-09T14:14:00.011548:0\t0\t0\t1\n",
      "210909-14:14:00,63 nipype.interface INFO:\n",
      "\t stdout 2021-09-09T14:14:00.011548:[reg_aladin_sym] Final backward transformation matrix::\n",
      "210909-14:14:00,64 nipype.interface INFO:\n",
      "\t stdout 2021-09-09T14:14:00.011548:0.9867525\t0.0253009\t-0.04727188\t-5.427011\n",
      "210909-14:14:00,64 nipype.interface INFO:\n",
      "\t stdout 2021-09-09T14:14:00.011548:-0.02182245\t1.005513\t-0.06942654\t3.799992\n",
      "210909-14:14:00,65 nipype.interface INFO:\n",
      "\t stdout 2021-09-09T14:14:00.011548:0.04571681\t0.084701\t0.9874093\t-31.81631\n",
      "210909-14:14:00,66 nipype.interface INFO:\n",
      "\t stdout 2021-09-09T14:14:00.011548:0\t0\t0\t1\n",
      "210909-14:14:00,66 nipype.interface INFO:\n",
      "\t stdout 2021-09-09T14:14:00.011548:[reg_aladin_sym] - - - - - - - - - - - - - - - - - - - - - - - - - - - - - -\n",
      "210909-14:14:00,67 nipype.interface INFO:\n",
      "\t stdout 2021-09-09T14:14:00.011548:[reg_aladin_sym] Current level 3 / 3\n",
      "210909-14:14:00,67 nipype.interface INFO:\n",
      "\t stdout 2021-09-09T14:14:00.011548:[reg_aladin_sym] reference image size: \t208x256x256 voxels\t1.1x1.10156x1.10156 mm\n",
      "210909-14:14:00,68 nipype.interface INFO:\n",
      "\t stdout 2021-09-09T14:14:00.011548:[reg_aladin_sym] floating image size: \t208x256x256 voxels\t1.1x1.10156x1.10156 mm\n",
      "210909-14:14:00,68 nipype.interface INFO:\n",
      "\t stdout 2021-09-09T14:14:00.011548:[reg_aladin_sym] Block size = [4 4 4]\n",
      "210909-14:14:00,69 nipype.interface INFO:\n",
      "\t stdout 2021-09-09T14:14:00.011548:[reg_aladin_sym] * * * * * * * * * * * * * * * * * * * * * * * * * * * * * *\n",
      "210909-14:14:00,70 nipype.interface INFO:\n",
      "\t stdout 2021-09-09T14:14:00.011548:[reg_aladin_sym] Forward Block number = [52 64 64]\n",
      "210909-14:14:00,70 nipype.interface INFO:\n",
      "\t stdout 2021-09-09T14:14:00.011548:[reg_aladin_sym] Backward Block number = [52 64 64]\n",
      "210909-14:14:00,71 nipype.interface INFO:\n",
      "\t stdout 2021-09-09T14:14:00.011548:[reg_aladin_sym] Initial forward transformation matrix::\n",
      "210909-14:14:00,71 nipype.interface INFO:\n",
      "\t stdout 2021-09-09T14:14:00.011548:1.010631\t-0.02933162\t0.04632124\t7.069935\n",
      "210909-14:14:00,72 nipype.interface INFO:\n",
      "\t stdout 2021-09-09T14:14:00.011548:0.0185926\t0.9881219\t0.07036676\t-1.415142\n",
      "210909-14:14:00,72 nipype.interface INFO:\n",
      "\t stdout 2021-09-09T14:14:00.011548:-0.04838684\t-0.08340407\t1.00457\t32.01606\n",
      "210909-14:14:00,73 nipype.interface INFO:\n",
      "\t stdout 2021-09-09T14:14:00.011548:0\t0\t0\t1\n",
      "210909-14:14:00,74 nipype.interface INFO:\n",
      "\t stdout 2021-09-09T14:14:00.011548:[reg_aladin_sym] Initial backward transformation matrix::\n",
      "210909-14:14:00,74 nipype.interface INFO:\n",
      "\t stdout 2021-09-09T14:14:00.074939:0.9867525\t0.0253009\t-0.04727188\t-5.427011\n",
      "210909-14:14:00,75 nipype.interface INFO:\n",
      "\t stdout 2021-09-09T14:14:00.074939:-0.02182245\t1.005513\t-0.06942654\t3.799992\n",
      "210909-14:14:00,76 nipype.interface INFO:\n",
      "\t stdout 2021-09-09T14:14:00.074939:0.04571681\t0.084701\t0.9874093\t-31.81631\n",
      "210909-14:14:00,76 nipype.interface INFO:\n",
      "\t stdout 2021-09-09T14:14:00.074939:0\t0\t0\t1\n",
      "210909-14:14:00,77 nipype.interface INFO:\n",
      "\t stdout 2021-09-09T14:14:00.074939:[reg_aladin_sym] * * * * * * * * * * * * * * * * * * * * * * * * * * * * * *\n",
      "210909-14:14:00,77 nipype.interface INFO:\n",
      "\t stdout 2021-09-09T14:14:00.074939:[reg_aladin_sym] Final forward transformation matrix::\n",
      "210909-14:14:00,78 nipype.interface INFO:\n",
      "\t stdout 2021-09-09T14:14:00.074939:1.006374\t-0.03033984\t0.04921925\t7.11523\n",
      "210909-14:14:00,79 nipype.interface INFO:\n",
      "\t stdout 2021-09-09T14:14:00.074939:0.01898279\t0.9924707\t0.07664249\t-1.426169\n",
      "210909-14:14:00,79 nipype.interface INFO:\n",
      "\t stdout 2021-09-09T14:14:00.074939:-0.04923529\t-0.08590181\t1.004877\t32.10719\n",
      "210909-14:14:00,80 nipype.interface INFO:\n",
      "\t stdout 2021-09-09T14:14:00.074939:0\t0\t0\t1\n",
      "210909-14:14:00,80 nipype.interface INFO:\n",
      "\t stdout 2021-09-09T14:14:00.074939:[reg_aladin_sym] Final backward transformation matrix::\n",
      "210909-14:14:00,81 nipype.interface INFO:\n",
      "\t stdout 2021-09-09T14:14:00.074939:0.9907069\t0.02591482\t-0.05050172\t-5.390681\n",
      "210909-14:14:00,81 nipype.interface INFO:\n",
      "\t stdout 2021-09-09T14:14:00.074939:-0.02254873\t1.000389\t-0.07519569\t4.001485\n",
      "210909-14:14:00,82 nipype.interface INFO:\n",
      "\t stdout 2021-09-09T14:14:00.074939:0.04661342\t0.08678783\t0.9862438\t-31.87341\n",
      "210909-14:14:00,82 nipype.interface INFO:\n",
      "\t stdout 2021-09-09T14:14:00.074939:0\t0\t0\t1\n",
      "210909-14:14:00,83 nipype.interface INFO:\n",
      "\t stdout 2021-09-09T14:14:00.074939:[reg_aladin_sym] - - - - - - - - - - - - - - - - - - - - - - - - - - - - - -\n",
      "210909-14:14:00,84 nipype.interface INFO:\n",
      "\t stdout 2021-09-09T14:14:00.074939:[reg_aladin] Registration performed in 2 min 13 sec\n",
      "210909-14:14:00,84 nipype.interface INFO:\n",
      "\t stdout 2021-09-09T14:14:00.074939:[reg_aladin] Have a good day !\n"
     ]
    },
    {
     "data": {
      "text/plain": [
       "<nipype.interfaces.base.support.InterfaceResult at 0x7fc54beefd50>"
      ]
     },
     "execution_count": 9,
     "metadata": {},
     "output_type": "execute_result"
    }
   ],
   "source": [
    "node.run()"
   ]
  },
  {
   "cell_type": "markdown",
   "metadata": {},
   "source": [
    "## Checking the registration\n",
    "\n",
    "Let's see if how well the registration did. "
   ]
  },
  {
   "cell_type": "code",
   "execution_count": 10,
   "metadata": {},
   "outputs": [],
   "source": [
    "import nanslice.jupyter as ns"
   ]
  },
  {
   "cell_type": "markdown",
   "metadata": {},
   "source": [
    "Next, we initialise FSLeyes and create the frame, or window that we will be starting the viewer in."
   ]
  },
  {
   "cell_type": "code",
   "execution_count": 16,
   "metadata": {},
   "outputs": [
    {
     "data": {
      "application/vnd.jupyter.widget-view+json": {
       "model_id": "9877a16b54d640fd830cd35569b27589",
       "version_major": 2,
       "version_minor": 0
      },
      "text/plain": [
       "Canvas(toolbar=Toolbar(toolitems=[('Home', 'Reset original view', 'home', 'home'), ('Back', 'Back to previous …"
      ]
     },
     "metadata": {},
     "output_type": "display_data"
    }
   ],
   "source": [
    "base=ns.three_plane(bl_img[0]['path'], title='Baseline',interactive=True)"
   ]
  },
  {
   "cell_type": "markdown",
   "metadata": {},
   "source": [
    "Then we grab the image data that is needed for viewing. We first create an O"
   ]
  },
  {
   "cell_type": "code",
   "execution_count": 12,
   "metadata": {},
   "outputs": [],
   "source": [
    "from fsleyes.views.orthopanel import OrthoPanel\n",
    "from fsl.data.image import Image\n",
    "ortho = frame.addViewPanel(OrthoPanel)"
   ]
  },
  {
   "cell_type": "code",
   "execution_count": 18,
   "metadata": {},
   "outputs": [],
   "source": [
    "overlayList.append(Image(bl_img[0]['path']))\n",
    "overlayList.append(Image(fu_img[0]['path']))"
   ]
  },
  {
   "cell_type": "code",
   "execution_count": 19,
   "metadata": {},
   "outputs": [],
   "source": [
    "frame.Close()\n",
    "fsleyes.shutdown()"
   ]
  },
  {
   "cell_type": "code",
   "execution_count": null,
   "metadata": {},
   "outputs": [],
   "source": []
  }
 ],
 "metadata": {
  "kernelspec": {
   "display_name": "Python 3 (GUI)",
   "language": "python",
   "name": "python3w"
  },
  "language_info": {
   "codemirror_mode": {
    "name": "ipython",
    "version": 3
   },
   "file_extension": ".py",
   "mimetype": "text/x-python",
   "name": "python",
   "nbconvert_exporter": "python",
   "pygments_lexer": "ipython3",
   "version": "3.7.10"
  }
 },
 "nbformat": 4,
 "nbformat_minor": 4
}
