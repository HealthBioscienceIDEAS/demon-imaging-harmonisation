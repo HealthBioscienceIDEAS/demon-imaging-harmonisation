{
 "cells": [
  {
   "cell_type": "markdown",
   "metadata": {},
   "source": [
    "# Data harmoinsation in imaging - the problem\n",
    "This notebook will give a brief example of how differences can arise when acquiring data using multiple scanners in a study. For more background on this, please see the documenation web pages. \n",
    "\n",
    "To illistrate this probelm, let's take a scenario where we expect the least amount of change. We will jave a hjealthy subejct scanned on two different scanners. We will register them together and see if there are any differences present. if the scans produced were truly quantitiave, then we would expect to see a minimal difference between the scans save for a bit of measurement error. "
   ]
  },
  {
   "cell_type": "markdown",
   "metadata": {},
   "source": [
    "## Setup\n",
    "To start with, we will import a few basic packages and setup the notebook to have interactive content (the matplotlib widget *magic* command in Jupyter)"
   ]
  },
  {
   "cell_type": "code",
   "execution_count": 1,
   "metadata": {},
   "outputs": [],
   "source": [
    "import os\n",
    "import shutil\n",
    "import matplotlib\n",
    "%matplotlib widget"
   ]
  },
  {
   "cell_type": "markdown",
   "metadata": {},
   "source": [
    "## Getting the data\n",
    "For this demonstration, I used [Datalad](https://www.datalad.org/) to setup the data repository. Datalad is built upon git and git-annex, and it provides version control for data management, data sharing and reproducible science. For this lesson, it offers us a convenient way of grabbing the data that we need. These comamands import datalad so that we can use it to clone the repository into our virtual machine."
   ]
  },
  {
   "cell_type": "code",
   "execution_count": 2,
   "metadata": {},
   "outputs": [],
   "source": [
    "import nest_asyncio\n",
    "nest_asyncio.apply()"
   ]
  },
  {
   "cell_type": "code",
   "execution_count": 3,
   "metadata": {},
   "outputs": [],
   "source": [
    "import datalad.api as dl"
   ]
  },
  {
   "cell_type": "markdown",
   "metadata": {},
   "source": [
    "Next we \"clone\" the repository to a local destination. No big files are downloaded yet, just the metadata so this computer know what data exists."
   ]
  },
  {
   "cell_type": "code",
   "execution_count": 4,
   "metadata": {},
   "outputs": [
    {
     "name": "stderr",
     "output_type": "stream",
     "text": [
      "[INFO] Fetching updates for Dataset(/tmp/sample) \n"
     ]
    },
    {
     "name": "stdout",
     "output_type": "stream",
     "text": [
      ".: demons-data(?) [git]\n"
     ]
    },
    {
     "data": {
      "text/plain": [
       "[{'action': 'enable-sibling',\n",
       "  'path': '/tmp/sample',\n",
       "  'type': 'sibling',\n",
       "  'name': 'demons-data',\n",
       "  'refds': '/tmp/sample',\n",
       "  'status': 'ok'}]"
      ]
     },
     "execution_count": 4,
     "metadata": {},
     "output_type": "execute_result"
    }
   ],
   "source": [
    "dl_source='https://github.com/HealthBioscienceIDEAS/demon-imaging-data.git'\n",
    "sample=dl.clone(dl_source,path='/tmp/sample',description='Cloned sample dataset for import')\n",
    "sample.update(merge=True)\n",
    "sample.siblings(action='enable',name='demons-data')"
   ]
  },
  {
   "cell_type": "markdown",
   "metadata": {},
   "source": [
    "Now we get our first and second image from the same individual using the datalad get command. Big data is not downloaded automaticaly, only as it is needed, saving valuable space, especially on large repositories. If not downloaded before, then this might take a few seconds on the binder instance, so be patient. When it is running, the number to the left becomes a star. When it is complete, it becomes a number again."
   ]
  },
  {
   "cell_type": "code",
   "execution_count": 5,
   "metadata": {},
   "outputs": [],
   "source": [
    "bl_img=sample.get('./baseline_t1.nii.gz')"
   ]
  },
  {
   "cell_type": "code",
   "execution_count": 6,
   "metadata": {},
   "outputs": [],
   "source": [
    "fu_img=sample.get('./followup_t1.nii.gz')"
   ]
  },
  {
   "cell_type": "markdown",
   "metadata": {},
   "source": [
    "# Intrasubject registration\n",
    "The python package [nipype](https://nipype.readthedocs.io/en/latest/index.html) provides an effective means in Python to run your image processing workflows, taking \"building blocks\" of individual commands, allowing you to piece together bits of various software packages (FSL, SPM, FreeSurfer, AFNI, MRtrix, etc) into complete pipelines. We are just going to use it for simple cases here by registereing our baseline and followup image."
   ]
  },
  {
   "cell_type": "code",
   "execution_count": 7,
   "metadata": {},
   "outputs": [],
   "source": [
    "from nipype.interfaces import niftyreg\n"
   ]
  },
  {
   "cell_type": "markdown",
   "metadata": {},
   "source": [
    "This sets up the node that will run rigid registration using  [NiftyReg](https://github.com/KCL-BMEIS/niftyreg), a lightweight easy to use registration package. We set the inputs and outputs up, and it will generate the command line, which you can see below."
   ]
  },
  {
   "cell_type": "code",
   "execution_count": 8,
   "metadata": {},
   "outputs": [
    {
     "data": {
      "text/plain": [
       "'reg_aladin -aff /Users/davecash/src/demon-imaging-harmonisation/results/followup_to_baseline_aff.txt -flo /tmp/sample/followup_t1.nii.gz -omp 1 -ref /tmp/sample/baseline_t1.nii.gz -res /Users/davecash/src/demon-imaging-harmonisation/results/followup_t1_resampled.nii.gz -voff'"
      ]
     },
     "execution_count": 8,
     "metadata": {},
     "output_type": "execute_result"
    }
   ],
   "source": [
    "out_path=os.path.join(os.getcwd(),'results')\n",
    "if not os.path.exists(out_path):\n",
    "    os.makedirs(out_path)\n",
    "followup_aff=os.path.join(out_path,'followup_to_baseline_aff.txt')\n",
    "followup_res=os.path.join(out_path,'followup_t1_resampled.nii.gz')\n",
    "node = niftyreg.RegAladin(verbosity_off_flag=True)\n",
    "node.inputs.ref_file = bl_img[0]['path']\n",
    "node.inputs.flo_file = fu_img[0]['path']\n",
    "node.inputs.aff_file = followup_aff\n",
    "node.inputs.res_file = followup_res\n",
    "node.cmdline"
   ]
  },
  {
   "cell_type": "markdown",
   "metadata": {},
   "source": [
    "If we are happy with that, then we run the code. This might take a little while, as nipype doesn't produce the output until it is all complete. "
   ]
  },
  {
   "cell_type": "code",
   "execution_count": 9,
   "metadata": {},
   "outputs": [
    {
     "name": "stdout",
     "output_type": "stream",
     "text": [
      "210913-10:33:19,311 nipype.interface INFO:\n",
      "\t stdout 2021-09-13T10:33:19.310011:[NiftyReg WARNING] NiftyReg has not been compiled with OpenMP, the '-omp' flag is ignored\n"
     ]
    },
    {
     "data": {
      "text/plain": [
       "<nipype.interfaces.base.support.InterfaceResult at 0x7fb42ee90d10>"
      ]
     },
     "execution_count": 9,
     "metadata": {},
     "output_type": "execute_result"
    }
   ],
   "source": [
    "node.run()"
   ]
  },
  {
   "cell_type": "markdown",
   "metadata": {},
   "source": [
    "It has now generated the affine transformation between the two images and ar sampled followup image. You can now see these in the results directory of your drive and the next step will put the baseline there to, so that you can compare them on your own macine if you prefer. "
   ]
  },
  {
   "cell_type": "code",
   "execution_count": 10,
   "metadata": {},
   "outputs": [
    {
     "data": {
      "text/plain": [
       "'/Users/davecash/src/demon-imaging-harmonisation/results/baseline_t1.nii.gz'"
      ]
     },
     "execution_count": 10,
     "metadata": {},
     "output_type": "execute_result"
    }
   ],
   "source": [
    "baseline_nii=os.path.join(out_path,'baseline_t1.nii.gz')\n",
    "shutil.copyfile(bl_img[0]['path'],baseline_nii)"
   ]
  },
  {
   "cell_type": "markdown",
   "metadata": {},
   "source": [
    "## Checking the registration\n",
    "\n",
    "After the registration. images should be aligned such that the corresponding anatomy in the scans are aligned. If you look at the tree view of files, you should see the results directory and the files in there. The best way to check the registration is to open them up in your favourite iamge viewer like fsleyes that allows you to go back and forth between the baseline scan and the followup scan, so you can see the diferences. You can also look at them through this noteboook below using a lightweight 3D slice viewer called [nanslice](https://github.com/spinicist/nanslice)."
   ]
  },
  {
   "cell_type": "code",
   "execution_count": 11,
   "metadata": {},
   "outputs": [],
   "source": [
    "import nanslice.jupyter as ns"
   ]
  },
  {
   "cell_type": "markdown",
   "metadata": {},
   "source": [
    "Let's first look at the baseline in the viewer. Scroll around on each of the slices. You can change the brightness and contrast by modifying the clim argument below.   "
   ]
  },
  {
   "cell_type": "code",
   "execution_count": 25,
   "metadata": {},
   "outputs": [
    {
     "data": {
      "application/vnd.jupyter.widget-view+json": {
       "model_id": "c79580ae856b4dca8b3f297a68b31e04",
       "version_major": 2,
       "version_minor": 0
      },
      "text/plain": [
       "Canvas(toolbar=Toolbar(toolitems=[('Home', 'Reset original view', 'home', 'home'), ('Back', 'Back to previous …"
      ]
     },
     "metadata": {},
     "output_type": "display_data"
    },
    {
     "data": {
      "application/vnd.jupyter.widget-view+json": {
       "model_id": "9936ca8bc3a74e6c91d556ac2ae5bc6f",
       "version_major": 2,
       "version_minor": 0
      },
      "text/plain": [
       "VBox(children=(HBox(children=(FloatSlider(value=0.000164031982421875, description='X:', max=113.85000610351562…"
      ]
     },
     "metadata": {},
     "output_type": "display_data"
    }
   ],
   "source": [
    "base=ns.Layer(baseline_nii,clim=(30,350),label=\"Baseline\")\n",
    "ns.three_plane(base,cbar=True,interactive=True)"
   ]
  },
  {
   "cell_type": "markdown",
   "metadata": {},
   "source": [
    "Now for the repeat - The original clim arguments should produce similar greyscales for both. Make sure the slice sliders have the same location for both viewers.  \n",
    "**What differences do you notice?**"
   ]
  },
  {
   "cell_type": "code",
   "execution_count": 23,
   "metadata": {},
   "outputs": [
    {
     "data": {
      "application/vnd.jupyter.widget-view+json": {
       "model_id": "e13817d055c24daca7f53a45165a4c4c",
       "version_major": 2,
       "version_minor": 0
      },
      "text/plain": [
       "Canvas(toolbar=Toolbar(toolitems=[('Home', 'Reset original view', 'home', 'home'), ('Back', 'Back to previous …"
      ]
     },
     "metadata": {},
     "output_type": "display_data"
    },
    {
     "data": {
      "application/vnd.jupyter.widget-view+json": {
       "model_id": "abb6f3d24e1a4421a5c6d15e4580a487",
       "version_major": 2,
       "version_minor": 0
      },
      "text/plain": [
       "VBox(children=(HBox(children=(FloatSlider(value=0.000164031982421875, description='X:', max=113.85000610351562…"
      ]
     },
     "metadata": {},
     "output_type": "display_data"
    }
   ],
   "source": [
    "repeat=ns.Layer(followup_res,clim=(20,220),label=\"Followup\")\n",
    "ns.three_plane(repeat,cbar=True,interactive=True)"
   ]
  },
  {
   "cell_type": "markdown",
   "metadata": {},
   "source": [
    "In some cases, changing scanners can result in subtle geometric distortions between scans. In some cases, these changs in shape can appear as changes in volume that are not based on the pathophysiology. This animated GIF Here is an animation of the above scans so that you can see it as an example. It also further shows the differences in contrast and intensity between scans. These three effects are some of the main reasons for why data harmonisation between sites are needed. \n",
    "![DistortionExample](registration.gif \"registration\")"
   ]
  }
 ],
 "metadata": {
  "kernelspec": {
   "display_name": "Python 3 (GUI)",
   "language": "python",
   "name": "python3w"
  },
  "language_info": {
   "codemirror_mode": {
    "name": "ipython",
    "version": 3
   },
   "file_extension": ".py",
   "mimetype": "text/x-python",
   "name": "python",
   "nbconvert_exporter": "python",
   "pygments_lexer": "ipython3",
   "version": "3.7.10"
  }
 },
 "nbformat": 4,
 "nbformat_minor": 4
}
